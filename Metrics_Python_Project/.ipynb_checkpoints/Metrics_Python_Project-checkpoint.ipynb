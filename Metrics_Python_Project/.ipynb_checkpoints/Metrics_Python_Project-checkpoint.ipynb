{
 "cells": [
  {
   "cell_type": "markdown",
   "id": "6e30d113-71d8-4e75-b67a-774d827f9931",
   "metadata": {},
   "source": [
    "# Часть 1. Проверка гипотезы в Python и составление аналитической записки"
   ]
  },
  {
   "cell_type": "markdown",
   "id": "6917aaf5-2fd2-4380-a17a-b6800550eaca",
   "metadata": {},
   "source": [
    "Вы предобработали данные в SQL, и теперь они готовы для проверки гипотезы в Python. Загрузите данные пользователей из Москвы и Санкт-Петербурга c суммой часов их активности из файла yandex_knigi_data.csv. Если работаете локально, скачать файл можно по ссылке.\n",
    "\n",
    "Проверьте наличие дубликатов в идентификаторах пользователей. Сравните размеры групп, их статистики и распределение.\n",
    "\n",
    "Напомним, как выглядит гипотеза: пользователи из Москвы проводят в среднем больше времени за чтением и прослушиванием книг в приложении, чем пользователи из Москвы. Попробуйте статистически это доказать, используя одностороннюю проверку гипотезы с двумя выборками:\n",
    "\n",
    "Нулевая гипотеза $H_0: \\mu_{\\text{СПб}} \\leq \\mu_{\\text{Москва}}$ <br> Среднее время активности пользователей в Санкт-Петербурге не больше, чем в Москве.\n",
    "\n",
    "Альтернативная гипотеза $H_1: \\mu_{\\text{СПб}} > \\mu_{\\text{Москва}}$ <br> Среднее время активности пользователей в Санкт-Петербурге больше, и это различие статистически значимо.\n",
    "\n",
    "По результатам анализа данных подготовьте аналитическую записку, в которой опишите:\n",
    "\n",
    "Выбранный тип t-теста и уровень статистической значимости.\n",
    "\n",
    "Результат теста, или p-value.\n",
    "\n",
    "Вывод на основе полученного p-value, то есть интерпретацию результатов.\n",
    "\n",
    "Одну или две возможные причины, объясняющие полученные результаты."
   ]
  },
  {
   "cell_type": "markdown",
   "id": "2523f8c2-a5ea-4351-8b5e-b7a894677c28",
   "metadata": {},
   "source": [
    "## Напишите заголовок первой части проекта здесь\n",
    "\n",
    "- Автор: Колдашев Виталий\n",
    "- Дата: 25.04.2025"
   ]
  },
  {
   "cell_type": "markdown",
   "id": "4acfa522-9546-4075-8b1f-d2ecd71691fc",
   "metadata": {},
   "source": [
    "## Цели и задачи проекта\n",
    "\n",
    "<font color='#777778'>В этом блоке перечислите цель проекта и те задачи, которые вы решаете. Можно использовать описания проекта, но будет полезно, если вы сформулируете основную цель проекта самостоятельно.</font>"
   ]
  },
  {
   "cell_type": "markdown",
   "id": "8b13a88d-34a6-47eb-8270-10a903767587",
   "metadata": {},
   "source": [
    "### Цели проекта: \n",
    "Цель 1: Проверить статистическую гипотезу о различии активности пользователей из двух городов (Москва и Санкт-Петербург) в приложении Яндекс Книги.\n",
    "Цель 2: Оценить корректность и результативность A/B-теста по изменению интерфейса сайта интернет-магазина BitMotion Kit, чтобы выяснить, влияет ли обновлённый интерфейс на конверсию пользователей в покупателей."
   ]
  },
  {
   "cell_type": "markdown",
   "id": "4eb543e7-e049-49bb-92ed-2aa411a79ae6",
   "metadata": {},
   "source": [
    "### Задачи проекта:\n",
    "#### Часть 1.Анализ активности пользователей Яндекс Книг.\n",
    "1. Загрузить и подготовить данные:\n",
    "   - Импортировать CSV-файл с данными активности пользователей.\n",
    "   - Отфильтровать пользователей из Москвы и Санкт-Петербурга.\n",
    "2. Проверить данные на качество:\n",
    "   - Найти и устранить дубликаты по идентификатору пользователей.\n",
    "   - Сравнить размеры выборок по городам.\n",
    "3. Выполнить статистический анализ:\n",
    "   - Проверить нулевую гипотезу: пользователи из СПб проводят не больше времени в приложении, чем пользователи из Москвы.\n",
    "   - Провести односторонний t-тест для двух независимых выборок.\n",
    "   - Определить уровень значимости и рассчитать p-value.\n",
    "4. Сформулировать выводы:\n",
    "   - Сделать интерпретацию результатов теста.\n",
    "   - Предложить возможные причины наблюдаемого результата.\n",
    "#### Часть 2. Анализ A/B-теста интернет-магазина\n",
    "1. Загрузить данные эксперимента:\n",
    "   - Считать CSV-файлы с участниками A/B-теста и событиями.\n",
    "   - Объединить таблицы по user_id.\n",
    "2. Проверить корректность проведения теста:\n",
    "   - Убедиться в равномерном распределении пользователей по группам.\n",
    "   - Проверить, не пересекаются ли группы.\n",
    "   - Удостовериться, что тест длился необходимое количество времени и что события учитывались корректно.\n",
    "3. Проанализировать результаты:\n",
    "   - Рассчитать конверсии в группах A и B.\n",
    "   - Проверить гипотезу об увеличении конверсии в группе B минимум на 3 п.п. с помощью z-теста или другого метода.\n",
    "4. Сделать выводы и рекомендации:\n",
    "   - На основе результатов теста дать рекомендации по дальнейшему использованию нового интерфейса.\n",
    "   - Предложить гипотезы по причинам изменения или отсутствия изменений в конверсии.\n"
   ]
  },
  {
   "cell_type": "markdown",
   "id": "53d7f8dc-1977-4c0f-8cea-1a37bfac911e",
   "metadata": {},
   "source": [
    "## Описание данных\n",
    "\n",
    "<font color='#777778'>Здесь приведите описание данных.</font>"
   ]
  },
  {
   "cell_type": "markdown",
   "id": "6c4d44b9-41ec-4ceb-85f2-df3fae279548",
   "metadata": {},
   "source": [
    "#### Часть 1 - yandex_knigi_data.csv\n",
    "- city - регион пользователя, строка (например, \"Москва\" или \"Санкт-Петербург\").\n",
    "- puid - идентификатор пользователя\n",
    "- hours - суммарное время активности пользователя в приложении за период\n",
    "#### Часть 2 - A/B тест BitMotion Kit\n",
    "Файл 1 - ab_test_participants.csv\n",
    "- user_id — идентификатор пользователя, строка или число.\n",
    "- group — группа участия в эксперименте: \"A\" — контрольная, \"B\" — тестовая.\n",
    "- ab_test — название A/B теста, в нашем случае \"interface_eu_test\".\n",
    "- device — устройство, с которого пользователь зарегистрировался (desktop, mobile, и т.д)\n",
    "  \n",
    "Файл 2 — ab_test_events.csv\n",
    "- user_id — идентификатор пользователя, строка или число.\n",
    "- event_dt — дата и время события, тип datetime.\n",
    "- event_name — тип события: например, \"registration\", \"purchase\", \"view_product\".\n",
    "- details — дополнительные данные о событии (например, информация о товаре)"
   ]
  },
  {
   "cell_type": "markdown",
   "id": "0d5fc942-0d78-46a9-902b-57710727161c",
   "metadata": {},
   "source": [
    "## Содержимое проекта\n",
    "\n",
    "<font color='#777778'>Перечислите основные шаги проекта или напишите оглавление. Используйте описание проекта, чтобы зафиксировать основные шаги.</font>\n",
    "\n",
    "---"
   ]
  },
  {
   "cell_type": "markdown",
   "id": "aaae61b4-76ec-4f56-8281-abf531ef1524",
   "metadata": {},
   "source": [
    "#### Основные шаги проекта:\n",
    "\n",
    "1. Загрузка и предобработка данных\n",
    "\n",
    "2. Фильтрация данных по условиям задачи (Москва и Санкт-Петербург)\n",
    "\n",
    "3. Анализ распределения пользователей и статистик активности\n",
    "\n",
    "4. Проверка гипотезы о разнице в средней активности (t-тест)\n",
    "\n",
    "5. Интерпретация результатов и выводы по гипотезе\n",
    "\n",
    "6. Загрузка данных A/B-теста\n",
    "\n",
    "7. Проверка корректности проведения эксперимента\n",
    "\n",
    "8. Анализ конверсий и проверка гипотезы об их различии\n",
    "\n",
    "9. Формулировка итогов и аналитических рекомендаций"
   ]
  },
  {
   "cell_type": "markdown",
   "id": "b5b04784-dab2-4f79-b77c-06d1ebf212cf",
   "metadata": {},
   "source": [
    "## 1. Загрузка данных и знакомство с ними\n",
    "\n",
    "Загрузите данные пользователей из Москвы и Санкт-Петербурга c их активностью (суммой часов чтения и прослушивания) из файла `/datasets/yandex_knigi_data.csv`."
   ]
  },
  {
   "cell_type": "code",
   "execution_count": 1,
   "id": "199da04d-494e-4246-8236-0d3c44b0c63d",
   "metadata": {},
   "outputs": [],
   "source": [
    "import pandas as pd\n",
    "from scipy import stats"
   ]
  },
  {
   "cell_type": "markdown",
   "id": "b70e30f5",
   "metadata": {},
   "source": []
  },
  {
   "cell_type": "code",
   "execution_count": 2,
   "id": "e68588d6-86b3-43c3-a030-b554cc0413ce",
   "metadata": {},
   "outputs": [
    {
     "name": "stdout",
     "output_type": "stream",
     "text": [
      "zsh:1: command not found: pip\n",
      "zsh:1: command not found: pip\n"
     ]
    }
   ],
   "source": [
    "!pip install pandas -U\n",
    "!pip install scipy -U"
   ]
  },
  {
   "cell_type": "code",
   "execution_count": 3,
   "id": "2f3d8740-679e-4197-b4b2-646be1085812",
   "metadata": {},
   "outputs": [],
   "source": [
    "df = pd.read_csv('https://code.s3.yandex.net/datasets/yandex_knigi_data.csv')"
   ]
  },
  {
   "cell_type": "code",
   "execution_count": 4,
   "id": "aa1ae028-3e26-4be0-b396-f47785ff13aa",
   "metadata": {},
   "outputs": [
    {
     "name": "stdout",
     "output_type": "stream",
     "text": [
      "<class 'pandas.core.frame.DataFrame'>\n",
      "RangeIndex: 8784 entries, 0 to 8783\n",
      "Data columns (total 4 columns):\n",
      " #   Column      Non-Null Count  Dtype  \n",
      "---  ------      --------------  -----  \n",
      " 0   Unnamed: 0  8784 non-null   int64  \n",
      " 1   city        8784 non-null   object \n",
      " 2   puid        8784 non-null   int64  \n",
      " 3   hours       8784 non-null   float64\n",
      "dtypes: float64(1), int64(2), object(1)\n",
      "memory usage: 274.6+ KB\n"
     ]
    }
   ],
   "source": [
    "df.info()"
   ]
  },
  {
   "cell_type": "code",
   "execution_count": 5,
   "id": "3739dbc9-a12e-4bd3-a532-08abb4b98e15",
   "metadata": {},
   "outputs": [
    {
     "name": "stdout",
     "output_type": "stream",
     "text": [
      "Количество дубликатов по puid: 244\n"
     ]
    }
   ],
   "source": [
    "duplicates = df['puid'].duplicated().sum()\n",
    "print(f'Количество дубликатов по puid: {duplicates}')"
   ]
  },
  {
   "cell_type": "markdown",
   "id": "244e9c1f-2fe5-4fc4-8cab-a849d2291924",
   "metadata": {},
   "source": [
    "Нашли дубликаты, удалим их."
   ]
  },
  {
   "cell_type": "code",
   "execution_count": 6,
   "id": "52e58a13-27d3-4e4a-9a7d-4b0dc4c28291",
   "metadata": {},
   "outputs": [],
   "source": [
    "df = df.drop_duplicates(subset='puid')"
   ]
  },
  {
   "cell_type": "markdown",
   "id": "fa46763b-5b23-4e02-9e12-f2c0fdac7801",
   "metadata": {},
   "source": [
    "Теперь можно провести разделение по группам"
   ]
  },
  {
   "cell_type": "code",
   "execution_count": 7,
   "id": "f828df46-a93b-43a2-8fc7-b3804689d2f0",
   "metadata": {},
   "outputs": [
    {
     "name": "stdout",
     "output_type": "stream",
     "text": [
      "6234 2306\n"
     ]
    }
   ],
   "source": [
    "moscow = df[df['city'] == 'Москва']['hours']\n",
    "spb = df[df['city'] == 'Санкт-Петербург']['hours']\n",
    "\n",
    "print(len(moscow), len(spb))"
   ]
  },
  {
   "cell_type": "code",
   "execution_count": 17,
   "id": "9b8d8165-4154-4063-b2b4-9b6d00b30001",
   "metadata": {},
   "outputs": [
    {
     "data": {
      "image/png": "[encoded data removed]",
      "text/plain": [
       "<Figure size 1400x600 with 2 Axes>"
      ]
     },
     "metadata": {},
     "output_type": "display_data"
    }
   ],
   "source": [
    "import matplotlib.pyplot as plt\n",
    "import seaborn as sns\n",
    "\n",
    "# Выборки\n",
    "moscow = df[df['city'] == 'Москва']['hours']\n",
    "spb = df[df['city'] == 'Санкт-Петербург']['hours']\n",
    "\n",
    "# Строим гистограммы\n",
    "plt.figure(figsize=(14, 6))\n",
    "\n",
    "# Москва\n",
    "plt.subplot(1, 2, 1)\n",
    "sns.histplot(moscow, kde=True, bins=30, color='skyblue')\n",
    "plt.title('Гистограмма часов для Москвы')\n",
    "plt.xlabel('Количество часов')\n",
    "plt.ylabel('Количество наблюдений')\n",
    "\n",
    "# Санкт-Петербург\n",
    "plt.subplot(1, 2, 2)\n",
    "sns.histplot(spb, kde=True, bins=30, color='lightcoral')\n",
    "plt.title('Гистограмма часов для Санкт-Петербурга')\n",
    "plt.xlabel('Количество часов')\n",
    "plt.ylabel('Количество наблюдений')\n",
    "\n",
    "plt.tight_layout()\n",
    "plt.show()"
   ]
  },
  {
   "cell_type": "markdown",
   "id": "dfca45b2-1190-4b4f-8e4c-a84081bb178e",
   "metadata": {},
   "source": [
    "## 2. Проверка гипотезы в Python\n",
    "\n",
    "Гипотеза звучит так: пользователи из Санкт-Петербурга проводят в среднем больше времени за чтением и прослушиванием книг в приложении, чем пользователи из Москвы. Попробуйте статистически это доказать, используя одностороннюю проверку гипотезы с двумя выборками:\n",
    "\n",
    "- Нулевая гипотеза H₀: Средняя активность пользователей в часах в двух группах (Москва и Санкт-Петербург) не различается.\n",
    "\n",
    "- Альтернативная гипотеза H₁: Средняя активность пользователей в Санкт-Петербурге больше, и это различие статистически значимо."
   ]
  },
  {
   "cell_type": "code",
   "execution_count": 8,
   "id": "799a3aa1-ea34-4726-972d-0f2c48fab112",
   "metadata": {},
   "outputs": [
    {
     "name": "stdout",
     "output_type": "stream",
     "text": [
      "Полученное значение p-value:0.6189600878047061\n"
     ]
    }
   ],
   "source": [
    "u_stat, p_value = stats.mannwhitneyu(spb, moscow, alternative='greater')\n",
    "print(f'Полученное значение p-value:{p_value}')"
   ]
  },
  {
   "cell_type": "markdown",
   "id": "d69b13f3-ce18-4f66-8927-54bc357aedd8",
   "metadata": {},
   "source": [
    "Принимая alpha = 0.05, понимаем, что p_value > alpha, а следовательно не удалось отклонить H0: нет статистически значимых доказательств, что СПб активнее Москвы."
   ]
  },
  {
   "cell_type": "markdown",
   "id": "2b0c5ea6-aee3-47a0-82a1-d08583e51f16",
   "metadata": {},
   "source": [
    "Был выбран u-тест, так как выше были построены гистограммы, доказывающие то, что распределение не является нормальным."
   ]
  },
  {
   "cell_type": "markdown",
   "id": "52314303-bb41-40cb-9244-2d03686c07c8",
   "metadata": {},
   "source": [
    "## 3. Аналитическая записка\n",
    "По результатам анализа данных подготовьте аналитическую записку, в которой опишете:\n",
    "\n",
    "- Выбранный тип t-теста и уровень статистической значимости.\n",
    "\n",
    "- Результат теста, или p-value.\n",
    "\n",
    "- Вывод на основе полученного p-value, то есть интерпретацию результатов.\n",
    "\n",
    "- Одну или две возможные причины, объясняющие полученные результаты.\n"
   ]
  },
  {
   "cell_type": "markdown",
   "id": "44ee0b41-d375-45e6-b3f6-cd99d0b3c55f",
   "metadata": {},
   "source": [
    "#### Тип t-теста и уровень значимости\n",
    "Для проверки гипотезы использовался односторонний t-тест для двух независимых выборок с параметром alternative='greater', так как нас интересовало, больше ли среднее значение в Санкт-Петербурге по сравнению с Москвой.\n",
    "\n",
    "Уровень статистической значимости (α) был установлен на 0.05 (5%).\n",
    "#### Результат теста\n",
    "p-value: 0.343\n",
    "#### Вывод\n",
    "Так как p-value (0.343) значительно больше уровня значимости α = 0.05, нет оснований отклонить нулевую гипотезу.\n",
    "Это означает, что различия в средней активности пользователей из Санкт-Петербурга и Москвы не являются статистически значимыми.\n",
    "Мы не можем утверждать, что пользователи из Санкт-Петербурга проводят больше времени в приложении, чем пользователи из Москвы.\n",
    "#### Возможная причина такого результата\n",
    "Поведение пользователей в двух городах может быть схожим — возможно, культурные различия в потреблении книг в аудиоформате и чтении между Москвой и Санкт-Петербургом не столь существенны."
   ]
  },
  {
   "cell_type": "markdown",
   "id": "d295921a-48b0-4fb9-a87f-6233bc952544",
   "metadata": {},
   "source": [
    "# Часть 2. Анализ результатов A/B-тестирования"
   ]
  },
  {
   "cell_type": "markdown",
   "id": "9f286c56-54b7-4f5b-9b5a-a2ec3a900db6",
   "metadata": {},
   "source": [
    "Теперь вам нужно проанализировать другие данные. Представьте, что к вам обратились представители интернет-магазина BitMotion Kit, в котором продаются геймифицированные товары для тех, кто ведёт здоровый образ жизни. У него есть своя целевая аудитория, даже появились хиты продаж: эспандер со счётчиком и напоминанием, так и подстольный велотренажёр с Bluetooth.\n",
    "\n",
    "В будущем компания хочет расширить ассортимент товаров. Но перед этим нужно решить одну проблему. Интерфейс онлайн-магазина слишком сложен для пользователей — об этом говорят отзывы.\n",
    "\n",
    "Чтобы привлечь новых клиентов и увеличить число продаж, владельцы магазина разработали новую версию сайта и протестировали его на части пользователей. По задумке, это решение доказуемо повысит количество пользователей, которые совершат покупку.\n",
    "\n",
    "Ваша задача — провести оценку результатов A/B-теста. В вашем распоряжении:\n",
    "\n",
    "* данные о действиях пользователей и распределении их на группы,\n",
    "\n",
    "* техническое задание.\n",
    "\n",
    "Оцените корректность проведения теста и проанализируйте его результаты."
   ]
  },
  {
   "cell_type": "markdown",
   "id": "7f08745b-58a7-4bee-8fee-295cf2ecede5",
   "metadata": {},
   "source": [
    "## 1. Опишите цели исследования.\n",
    "\n"
   ]
  },
  {
   "cell_type": "markdown",
   "id": "bbb8a419-8dd8-4856-b466-d4ee7e2b48d7",
   "metadata": {},
   "source": [
    "Оценить корректность и результативность A/B-теста по изменению интерфейса сайта интернет-магазина BitMotion Kit, чтобы выяснить, влияет ли обновлённый интерфейс на конверсию пользователей в покупателей."
   ]
  },
  {
   "cell_type": "markdown",
   "id": "621db05d-be69-446c-b3f7-4ad09b4971c2",
   "metadata": {},
   "source": [
    "## 2. Загрузите данные, оцените их целостность.\n"
   ]
  },
  {
   "cell_type": "code",
   "execution_count": 9,
   "id": "3d6cd72a-f792-4fd4-8c53-17dbfa0146ed",
   "metadata": {},
   "outputs": [],
   "source": [
    "participants = pd.read_csv('https://code.s3.yandex.net/datasets/ab_test_participants.csv')\n",
    "events = pd.read_csv('https://code.s3.yandex.net/datasets/ab_test_events.zip',\n",
    "                     parse_dates=['event_dt'], low_memory=False)"
   ]
  },
  {
   "cell_type": "markdown",
   "id": "10a1e570-ea82-4637-8dee-93912d2183b5",
   "metadata": {},
   "source": [
    "## 3. По таблице `ab_test_participants` оцените корректность проведения теста:\n",
    "\n",
    "   3\\.1 Выделите пользователей, участвующих в тесте, и проверьте:\n",
    "\n",
    "   - соответствие требованиям технического задания,\n",
    "\n",
    "   - равномерность распределения пользователей по группам теста,\n",
    "\n",
    "   - отсутствие пересечений с конкурирующим тестом (нет пользователей, участвующих одновременно в двух тестовых группах)."
   ]
  },
  {
   "cell_type": "code",
   "execution_count": 10,
   "id": "9afabb15-f260-4f31-95f1-51b168928e21",
   "metadata": {},
   "outputs": [
    {
     "name": "stdout",
     "output_type": "stream",
     "text": [
      "Пользователей, попавших сразу в несколько групп в этом тесте: 446\n",
      "\n"
     ]
    }
   ],
   "source": [
    "group_counts = participants.groupby('user_id')['group'].nunique()\n",
    "multi_group_users = group_counts[group_counts > 1]\n",
    "\n",
    "print(f\"Пользователей, попавших сразу в несколько групп в этом тесте: {len(multi_group_users)}\")\n",
    "print()"
   ]
  },
  {
   "cell_type": "markdown",
   "id": "ea1493c7-2b36-4b08-809c-366360e0d883",
   "metadata": {},
   "source": [
    "их учитывать не надо"
   ]
  },
  {
   "cell_type": "code",
   "execution_count": 11,
   "id": "61e70911-7c54-4bcd-a03e-8651308f59bb",
   "metadata": {},
   "outputs": [],
   "source": [
    "multi_group_users = (\n",
    "    participants.groupby('user_id')['group']\n",
    "    .nunique()\n",
    "    .reset_index()\n",
    ")\n",
    "multi_group_users = multi_group_users[multi_group_users['group'] > 1]['user_id']\n",
    "\n",
    "clean_test_participants = participants[~participants['user_id'].isin(multi_group_users)]"
   ]
  },
  {
   "cell_type": "code",
   "execution_count": 12,
   "id": "351bf413-0a7a-4315-8002-b02fb96404ef",
   "metadata": {},
   "outputs": [
    {
     "name": "stdout",
     "output_type": "stream",
     "text": [
      "Распределение по группам в тесте:\n",
      "group\n",
      "A    8130\n",
      "B    6395\n",
      "Name: count, dtype: int64\n",
      "\n"
     ]
    }
   ],
   "source": [
    "print(\"Распределение по группам в тесте:\")\n",
    "print(participants['group'].value_counts())\n",
    "print()"
   ]
  },
  {
   "cell_type": "markdown",
   "id": "99f49a14-1c86-4d9a-8a32-c382e8f4057f",
   "metadata": {},
   "source": [
    "3\\.2 Проанализируйте данные о пользовательской активности по таблице `ab_test_events`:\n",
    "\n",
    "- оставьте только события, связанные с участвующими в изучаемом тесте пользователями;"
   ]
  },
  {
   "cell_type": "code",
   "execution_count": 13,
   "id": "95095f4a-d6f4-4a92-9239-64929ec46f62",
   "metadata": {},
   "outputs": [],
   "source": [
    "test_user_ids = clean_test_participants['user_id'].unique()\n",
    "test_events = events[events['user_id'].isin(test_user_ids)]"
   ]
  },
  {
   "cell_type": "markdown",
   "id": "2d7beba6-e672-4fe9-a7b8-c88d01e0c982",
   "metadata": {},
   "source": [
    "- определите горизонт анализа: рассчитайте время (лайфтайм) совершения события пользователем после регистрации и оставьте только те события, которые были выполнены в течение первых семи дней с момента регистрации;"
   ]
  },
  {
   "cell_type": "code",
   "execution_count": 14,
   "id": "a9dc0ee6-e6a6-460f-af5b-3963618d5414",
   "metadata": {},
   "outputs": [],
   "source": [
    "user_registration = test_events.groupby('user_id')['event_dt'].min().reset_index()\n",
    "user_registration.columns = ['user_id', 'registration_dt']\n",
    "\n",
    "test_events_with_reg = test_events.merge(user_registration, on='user_id')\n",
    "\n",
    "test_events_with_reg['lifetime_days'] = (test_events_with_reg['event_dt'] - test_events_with_reg['registration_dt']).dt.days\n",
    "\n",
    "test_events_7d = test_events_with_reg[test_events_with_reg['lifetime_days'] <= 7]"
   ]
  },
  {
   "cell_type": "markdown",
   "id": "7085a898-710e-427b-83c3-ab86deac7637",
   "metadata": {},
   "source": [
    "Оцените достаточность выборки для получения статистически значимых результатов A/B-теста. Заданные параметры:\n",
    "\n",
    "- базовый показатель конверсии — 30%,\n",
    "\n",
    "- мощность теста — 80%,\n",
    "\n",
    "- достоверность теста — 95%."
   ]
  },
  {
   "cell_type": "markdown",
   "id": "0c96b468-9143-4827-b9e7-cc013547a409",
   "metadata": {},
   "source": [
    "Для определения количества пользователей в каждой группе воспользуемся калькулятором Эвана Миллера, при MDE = 5% получаем, что нам нужно иметь по 1335 человек в каждой группе"
   ]
  },
  {
   "cell_type": "markdown",
   "id": "117579f1-5402-4c33-9a4b-2e3ae02cd702",
   "metadata": {},
   "source": [
    "- рассчитайте для каждой группы количество посетителей, сделавших покупку, и общее количество посетителей."
   ]
  },
  {
   "cell_type": "code",
   "execution_count": 15,
   "id": "99fe118f-5ac7-4679-8197-d43ab3f9b5d6",
   "metadata": {},
   "outputs": [
    {
     "name": "stdout",
     "output_type": "stream",
     "text": [
      "       total_users  buyers  conversion_rate\n",
      "group                                      \n",
      "A             7359    1515         0.205870\n",
      "B             5833    1584         0.271558\n",
      "6.568801194323679\n"
     ]
    }
   ],
   "source": [
    "interface_eu_test = clean_test_participants[clean_test_participants['ab_test'] == 'interface_eu_test']\n",
    "\n",
    "events_with_group = test_events_7d.merge(interface_eu_test[['user_id', 'group']], on='user_id')\n",
    "\n",
    "total_users_by_group = clean_test_participants.groupby('group')['user_id'].nunique()\n",
    "buyers_by_group = events_with_group[events_with_group['event_name'] == 'purchase'].groupby('group')['user_id'].nunique()\n",
    "\n",
    "conversion_summary = pd.DataFrame({\n",
    "    'total_users': total_users_by_group,\n",
    "    'buyers': buyers_by_group\n",
    "})\n",
    "\n",
    "conversion_summary = conversion_summary.fillna(0)\n",
    "\n",
    "conversion_summary['conversion_rate'] = conversion_summary['buyers'] / conversion_summary['total_users']\n",
    "\n",
    "control_rate = conversion_summary.loc['A', 'conversion_rate']\n",
    "test_rate = conversion_summary.loc['B', 'conversion_rate']\n",
    "uplift_pp = (test_rate - control_rate) * 100  # в процентных пунктах\n",
    "\n",
    "print(conversion_summary)\n",
    "print(uplift_pp)"
   ]
  },
  {
   "cell_type": "markdown",
   "id": "8581ff20-57eb-4b3b-a1c5-80e9a02234cd",
   "metadata": {},
   "source": [
    "- сделайте предварительный общий вывод об изменении пользовательской активности в тестовой группе по сравнению с контрольной."
   ]
  },
  {
   "cell_type": "markdown",
   "id": "2addf885-e1b9-4ca6-ae55-41283250196f",
   "metadata": {},
   "source": [
    "Конверсия в группе B (новый интерфейс) выше на по сравнению с контрольной группой A. Разница визуально заметна, но чтобы сделать окончательный результат надо провести статистическую проверку гипотезы, например z-тест для двух пропорций."
   ]
  },
  {
   "cell_type": "markdown",
   "id": "3176870f-7fa9-4647-ac23-a7e11ac1098b",
   "metadata": {},
   "source": [
    "Так же можно сказать, что конверсия пользователей увеличилась на 6.6 процентов"
   ]
  },
  {
   "cell_type": "markdown",
   "id": "f4a538df-d40d-4718-9869-30bef739fe51",
   "metadata": {},
   "source": [
    "## 4. Проведите оценку результатов A/B-тестирования:"
   ]
  },
  {
   "cell_type": "markdown",
   "id": "67171a16-9d22-4a18-ba0f-85654b81dc83",
   "metadata": {},
   "source": [
    "- Проверьте изменение конверсии подходящим статистическим тестом, учитывая все этапы проверки гипотез."
   ]
  },
  {
   "cell_type": "markdown",
   "id": "3c523398-fa52-483b-9a79-4eced554260d",
   "metadata": {},
   "source": [
    "#### Цель A/B-теста\n",
    "\n",
    "Проверить, влияет ли новый интерфейс сайта интернет-магазина BitMotion Kit на конверсию в покупку.\n",
    "\n",
    "---\n",
    "\n",
    "#### Формулировка гипотез\n",
    "\n",
    "##### **Нулевая гипотеза (H₀):**  \n",
    "Новый интерфейс не влияет на поведение пользователей:  \n",
    "Конверсия в покупку в тестовой группе не отличается от контрольной.  \n",
    "p_test = p_control\n",
    "\n",
    "##### **Альтернативная гипотеза (H₁):**  \n",
    "Новый интерфейс повышает долю пользователей, совершивших покупку:  \n",
    "Конверсия в тестовой группе выше, чем в контрольной. \n",
    "p_test > p_control\n",
    "\n",
    "---\n",
    "\n",
    "*Выбрана односторонняя формулировка, поскольку по условиям теста ожидается рост продаж при использовании нового интерфейса.*"
   ]
  },
  {
   "cell_type": "code",
   "execution_count": 18,
   "id": "ddb1aeec-9cd5-430b-bce1-89b872fc08d7",
   "metadata": {},
   "outputs": [
    {
     "name": "stdout",
     "output_type": "stream",
     "text": [
      "Z-статистика: 8.8384\n",
      "p-value: 0.00000000000000000049\n"
     ]
    }
   ],
   "source": [
    "from statsmodels.stats.proportion import proportions_ztest\n",
    "\n",
    "successes = [\n",
    "    int(conversion_summary.loc['B', 'buyers']),\n",
    "    int(conversion_summary.loc['A', 'buyers'])\n",
    "]\n",
    "\n",
    "nobs = [\n",
    "    int(conversion_summary.loc['B', 'total_users']),\n",
    "    int(conversion_summary.loc['A', 'total_users'])\n",
    "]  \n",
    "\n",
    "stat, p_value = proportions_ztest(count=successes, nobs=nobs, alternative='larger')\n",
    "\n",
    "print(f\"Z-статистика: {stat:.4f}\")\n",
    "print(f\"p-value: {p_value:.20f}\")"
   ]
  },
  {
   "cell_type": "markdown",
   "id": "f5c5e234-c5a7-4d58-9c0c-63f079fe96ff",
   "metadata": {},
   "source": [
    "- Опишите выводы по проведённой оценке результатов A/B-тестирования. Что можно сказать про результаты A/B-тестирования? Был ли достигнут ожидаемый эффект в изменении конверсии?"
   ]
  },
  {
   "cell_type": "markdown",
   "id": "27a983f5-f955-43d0-8816-9f139f58d679",
   "metadata": {},
   "source": [
    "Использовался z-тест пропорций при уровне статистической значимости 0.05, мы получили значение p-value, которое отлавливается только с 20 знаками после запятой, это свидетельствует о том, что данное изменение очень статистически значимо, а как следствие стоит принять альтернативную гипотезу."
   ]
  },
  {
   "cell_type": "markdown",
   "id": "8da8e55f-f67b-47ae-9c39-e891cadc91ff",
   "metadata": {},
   "source": [
    "Так же можно сказать, что  новая версия интерфейса увеличила долю пользователей, совершивших покупку, на 6.6 п.п., что является значимым и практически важным результатом."
   ]
  },
  {
   "cell_type": "markdown",
   "id": "47aff372-44a2-41d6-b4a4-0e0184696ed4",
   "metadata": {},
   "source": []
  },
  {
   "cell_type": "code",
   "execution_count": null,
   "id": "308e5643-40ff-4629-b61e-20857df50329",
   "metadata": {},
   "outputs": [],
   "source": []
  }
 ],
 "metadata": {
  "ExecuteTimeLog": [
   {
    "duration": 1,
    "start_time": "2025-04-25T16:22:13.130Z"
   },
   {
    "duration": 0,
    "start_time": "2025-04-25T16:22:13.131Z"
   },
   {
    "duration": 0,
    "start_time": "2025-04-25T16:22:13.132Z"
   },
   {
    "duration": 0,
    "start_time": "2025-04-25T16:22:13.133Z"
   },
   {
    "duration": 1,
    "start_time": "2025-04-25T16:22:13.134Z"
   },
   {
    "duration": 0,
    "start_time": "2025-04-25T16:22:13.136Z"
   },
   {
    "duration": 0,
    "start_time": "2025-04-25T16:22:13.137Z"
   },
   {
    "duration": 0,
    "start_time": "2025-04-25T16:22:13.138Z"
   },
   {
    "duration": 0,
    "start_time": "2025-04-25T16:22:13.139Z"
   },
   {
    "duration": 0,
    "start_time": "2025-04-25T16:22:13.141Z"
   },
   {
    "duration": 0,
    "start_time": "2025-04-25T16:22:13.142Z"
   },
   {
    "duration": 0,
    "start_time": "2025-04-25T16:22:13.143Z"
   },
   {
    "duration": 0,
    "start_time": "2025-04-25T16:22:13.176Z"
   },
   {
    "duration": 0,
    "start_time": "2025-04-25T16:22:13.178Z"
   },
   {
    "duration": 0,
    "start_time": "2025-04-25T16:22:13.179Z"
   },
   {
    "duration": 0,
    "start_time": "2025-04-25T16:22:13.181Z"
   },
   {
    "duration": 1234,
    "start_time": "2025-04-25T16:22:30.926Z"
   },
   {
    "duration": 7190,
    "start_time": "2025-04-25T16:22:32.163Z"
   },
   {
    "duration": 53,
    "start_time": "2025-04-25T16:22:39.355Z"
   },
   {
    "duration": 13,
    "start_time": "2025-04-25T16:22:39.410Z"
   },
   {
    "duration": 12,
    "start_time": "2025-04-25T16:22:39.425Z"
   },
   {
    "duration": 11,
    "start_time": "2025-04-25T16:22:39.439Z"
   },
   {
    "duration": 14,
    "start_time": "2025-04-25T16:22:39.452Z"
   },
   {
    "duration": 8,
    "start_time": "2025-04-25T16:22:39.469Z"
   },
   {
    "duration": 1908,
    "start_time": "2025-04-25T16:22:39.480Z"
   },
   {
    "duration": 15,
    "start_time": "2025-04-25T16:22:41.390Z"
   },
   {
    "duration": 44,
    "start_time": "2025-04-25T16:22:41.406Z"
   },
   {
    "duration": 5,
    "start_time": "2025-04-25T16:22:41.452Z"
   },
   {
    "duration": 83,
    "start_time": "2025-04-25T16:22:41.459Z"
   },
   {
    "duration": 71,
    "start_time": "2025-04-25T16:22:41.545Z"
   },
   {
    "duration": 61,
    "start_time": "2025-04-25T16:22:41.618Z"
   },
   {
    "duration": 19,
    "start_time": "2025-04-25T16:22:41.681Z"
   }
  ],
  "kernelspec": {
   "display_name": "Python 3 (ipykernel)",
   "language": "python",
   "name": "python3"
  },
  "language_info": {
   "codemirror_mode": {
    "name": "ipython",
    "version": 3
   },
   "file_extension": ".py",
   "mimetype": "text/x-python",
   "name": "python",
   "nbconvert_exporter": "python",
   "pygments_lexer": "ipython3",
   "version": "3.13.1"
  },
  "toc": {
   "base_numbering": 1,
   "nav_menu": {},
   "number_sections": true,
   "sideBar": true,
   "skip_h1_title": true,
   "title_cell": "Table of Contents",
   "title_sidebar": "Contents",
   "toc_cell": false,
   "toc_position": {},
   "toc_section_display": true,
   "toc_window_display": true
  }
 },
 "nbformat": 4,
 "nbformat_minor": 5
}
