{
 "cells": [
  {
   "cell_type": "markdown",
   "id": "e566ef63-a738-4ec7-84e6-4af32480f827",
   "metadata": {},
   "source": [
    "# Исследовательский анализ данных Яндекс Афиши"
   ]
  },
  {
   "cell_type": "markdown",
   "id": "ab334f89-9c35-478b-96b8-e6b330bd9d6c",
   "metadata": {},
   "source": [
    "## Цели проекта\n",
    "\n",
    "- Выявить причины изменений в пользовательском спросе в сервисе «Яндекс Афиша».\n",
    "- Определить наиболее востребованные категории событий, партнёров и регионов.\n",
    "- Оценить влияние сезонности на активность пользователей и популярность мероприятий.\n",
    "- Сравнить поведение пользователей мобильных устройств и стационарных компьютеров.\n",
    "- Проверить гипотезы об активности пользователей на разных типах устройств.\n",
    "- Сформировать рекомендации для продуктовой команды."
   ]
  },
  {
   "cell_type": "markdown",
   "id": "ab68c1f9-1ec9-4887-8bf8-78c2714ee59e",
   "metadata": {},
   "source": [
    "## Структура проекта\n",
    "\n",
    "### **Шаг 0. Оформление**\n",
    "- Название, цели, структура, описание данных.\n",
    "\n",
    "### **Шаг 1. Загрузка и первичный анализ данных**\n",
    "- Загрузка данных, первичная проверка корректности, объёма и описания.\n",
    "- Определение необходимых шагов предобработки.\n",
    "\n",
    "### **Шаг 2. Предобработка данных**\n",
    "- Работа с пропусками, дубликатами, аномалиями.\n",
    "- Приведение выручки к единой валюте — рублям.\n",
    "- Добавление новых признаков: `revenue_rub`, `one_ticket_revenue_rub`, `month`, `season`.\n",
    "\n",
    "### **Шаг 3. Исследовательский анализ данных**\n",
    "\n",
    "#### 3.1 Анализ сезонности и сегментов\n",
    "- Динамика заказов по месяцам и сезонам.\n",
    "- Сравнение распределения заказов летом и осенью:\n",
    "  - по типу мероприятия;\n",
    "  - по типу устройства;\n",
    "  - по возрастным ограничениям.\n",
    "- Анализ изменения средней выручки с одного билета по категориям.\n",
    "\n",
    "#### 3.2 Осенняя активность пользователей\n",
    "- Динамика по дням: число заказов, DAU, среднее число заказов на пользователя, стоимость билета.\n",
    "- Анализ цикличности (будни vs выходные).\n",
    "\n",
    "#### 3.3 Популярные события и партнёры\n",
    "- Популярные регионы и партнёры: количество мероприятий, заказов, выручка.\n",
    "- Расчёт долей и сравнение распределения.\n",
    "\n",
    "### **Шаг 4. Статистический анализ**\n",
    "\n",
    "- Проверка двух гипотез:\n",
    "  1. Среднее число заказов на пользователя выше у мобильных пользователей.\n",
    "  2. Среднее время между заказами больше у мобильных пользователей.\n",
    "- Обоснование выбора теста, формулировка H₀ и H₁, анализ результатов.\n",
    "\n",
    "### **Шаг 5. Общий вывод и рекомендации**\n",
    "- Краткие итоги исследования.\n",
    "- Ответы на ключевые вопросы.\n",
    "- Рекомендации для команды Яндекс Афиши."
   ]
  },
  {
   "cell_type": "markdown",
   "id": "df37a326-e86c-4c1a-a189-69d15a3de2b9",
   "metadata": {},
   "source": [
    "## Описание данных проекта\n",
    "### Первый датасет final_tickets_orders_df\n",
    "- order_id — уникальный идентификатор заказа.\n",
    "- user_id — уникальный идентификатор пользователя.\n",
    "- created_dt_msk — дата создания заказа (московское время).\n",
    "- created_ts_msk — дата и время создания заказа (московское время).\n",
    "- event_id — идентификатор мероприятия из таблицы events.\n",
    "- cinema_circuit — сеть кинотеатров. Если не применимо, то здесь будет значение 'нет'.\n",
    "- age_limit — возрастное ограничение мероприятия.\n",
    "- currency_code — валюта оплаты, например rub для российских рублей.\n",
    "- device_type_canonical — тип устройства, с которого был оформлен заказ, например mobile для мобильных устройств, desktop для стационарных.\n",
    "- revenue — выручка от заказа.\n",
    "- service_name — название билетного оператора.\n",
    "- tickets_count — количество купленных билетов.\n",
    "\n",
    "### Второй датасет final_tickets_events_df\n",
    "- event_id — уникальный идентификатор мероприятия.\n",
    "- event_name — название мероприятия. Аналог поля event_name_code из исходной базы данных.\n",
    "- event_type_description — описание типа мероприятия.\n",
    "- event_type_main — основной тип мероприятия: театральная постановка, концерт и так далее.\n",
    "- organizers — организаторы мероприятия.\n",
    "- region_name — название региона.\n",
    "- city_name — название города.\n",
    "- venue_id — уникальный идентификатор площадки.\n",
    "- venue_name — название площадки.\n",
    "- venue_address — адрес площадки.\n",
    "\n",
    "### Дополнительный датасет final_tickets_tenge_df\n",
    "- nominal — номинал (100 тенге).\n",
    "- data — дата.\n",
    "- curs — курс тенге к рублю.\n",
    "- cdx — обозначение валюты (kzt)."
   ]
  },
  {
   "cell_type": "markdown",
   "id": "135e3d29-75e2-4e64-9069-4f8fbe97ecb6",
   "metadata": {},
   "source": [
    "## Шаг 1. Загрузка данных и знакомство с ними"
   ]
  },
  {
   "cell_type": "code",
   "execution_count": 1,
   "id": "4286a982-d639-4dfc-9f0e-71f10938acf3",
   "metadata": {},
   "outputs": [
    {
     "name": "stdout",
     "output_type": "stream",
     "text": [
      "zsh:1: command not found: pip\n",
      "zsh:1: command not found: pip\n",
      "zsh:1: command not found: pip\n",
      "zsh:1: command not found: pip\n",
      "zsh:1: command not found: pip\n"
     ]
    }
   ],
   "source": [
    "!pip install numpy -U\n",
    "!pip install matplotlib -U\n",
    "!pip install scipy -U\n",
    "!pip install pandas -U\n",
    "!pip install seaborn -U"
   ]
  },
  {
   "cell_type": "code",
   "execution_count": 2,
   "id": "2eafa3e9-5b89-4f5d-a412-520eed4b4692",
   "metadata": {},
   "outputs": [],
   "source": [
    "import pandas as pd\n",
    "import matplotlib.pyplot as plt\n",
    "import seaborn as sns\n",
    "import numpy as np\n",
    "from scipy.stats import mannwhitneyu, ks_2samp"
   ]
  },
  {
   "cell_type": "code",
   "execution_count": 3,
   "id": "d66722ff-37b4-48df-b9a6-e6fcbcd7d753",
   "metadata": {},
   "outputs": [],
   "source": [
    "df_orders = pd.read_csv('https://code.s3.yandex.net//datasets/final_tickets_orders_df.csv')\n",
    "df_events = pd.read_csv('https://code.s3.yandex.net//datasets/final_tickets_events_df.csv')\n",
    "df_currency = pd.read_csv('https://code.s3.yandex.net//datasets/final_tickets_tenge_df.csv')"
   ]
  },
  {
   "cell_type": "code",
   "execution_count": 4,
   "id": "43a1c17e-a58f-4071-9984-b9c04c20f77f",
   "metadata": {},
   "outputs": [
    {
     "name": "stdout",
     "output_type": "stream",
     "text": [
      "<class 'pandas.core.frame.DataFrame'>\n",
      "RangeIndex: 290849 entries, 0 to 290848\n",
      "Data columns (total 14 columns):\n",
      " #   Column                 Non-Null Count   Dtype  \n",
      "---  ------                 --------------   -----  \n",
      " 0   order_id               290849 non-null  int64  \n",
      " 1   user_id                290849 non-null  object \n",
      " 2   created_dt_msk         290849 non-null  object \n",
      " 3   created_ts_msk         290849 non-null  object \n",
      " 4   event_id               290849 non-null  int64  \n",
      " 5   cinema_circuit         290849 non-null  object \n",
      " 6   age_limit              290849 non-null  int64  \n",
      " 7   currency_code          290849 non-null  object \n",
      " 8   device_type_canonical  290849 non-null  object \n",
      " 9   revenue                290849 non-null  float64\n",
      " 10  service_name           290849 non-null  object \n",
      " 11  tickets_count          290849 non-null  int64  \n",
      " 12  total                  290849 non-null  float64\n",
      " 13  days_since_prev        268909 non-null  float64\n",
      "dtypes: float64(3), int64(4), object(7)\n",
      "memory usage: 31.1+ MB\n"
     ]
    }
   ],
   "source": [
    "df_orders.info()"
   ]
  },
  {
   "cell_type": "code",
   "execution_count": 5,
   "id": "2fba7f3c-f489-4a37-b9c5-bdfafb64504e",
   "metadata": {},
   "outputs": [
    {
     "data": {
      "text/html": [
       "<div>\n",
       "<style scoped>\n",
       "    .dataframe tbody tr th:only-of-type {\n",
       "        vertical-align: middle;\n",
       "    }\n",
       "\n",
       "    .dataframe tbody tr th {\n",
       "        vertical-align: top;\n",
       "    }\n",
       "\n",
       "    .dataframe thead th {\n",
       "        text-align: right;\n",
       "    }\n",
       "</style>\n",
       "<table border=\"1\" class=\"dataframe\">\n",
       "  <thead>\n",
       "    <tr style=\"text-align: right;\">\n",
       "      <th></th>\n",
       "      <th>order_id</th>\n",
       "      <th>user_id</th>\n",
       "      <th>created_dt_msk</th>\n",
       "      <th>created_ts_msk</th>\n",
       "      <th>event_id</th>\n",
       "      <th>cinema_circuit</th>\n",
       "      <th>age_limit</th>\n",
       "      <th>currency_code</th>\n",
       "      <th>device_type_canonical</th>\n",
       "      <th>revenue</th>\n",
       "      <th>service_name</th>\n",
       "      <th>tickets_count</th>\n",
       "      <th>total</th>\n",
       "      <th>days_since_prev</th>\n",
       "    </tr>\n",
       "  </thead>\n",
       "  <tbody>\n",
       "    <tr>\n",
       "      <th>0</th>\n",
       "      <td>4359165</td>\n",
       "      <td>0002849b70a3ce2</td>\n",
       "      <td>2024-08-20</td>\n",
       "      <td>2024-08-20 16:08:03</td>\n",
       "      <td>169230</td>\n",
       "      <td>нет</td>\n",
       "      <td>16</td>\n",
       "      <td>rub</td>\n",
       "      <td>mobile</td>\n",
       "      <td>1521.94</td>\n",
       "      <td>Край билетов</td>\n",
       "      <td>4</td>\n",
       "      <td>10870.99</td>\n",
       "      <td>NaN</td>\n",
       "    </tr>\n",
       "    <tr>\n",
       "      <th>1</th>\n",
       "      <td>7965605</td>\n",
       "      <td>0005ca5e93f2cf4</td>\n",
       "      <td>2024-07-23</td>\n",
       "      <td>2024-07-23 18:36:24</td>\n",
       "      <td>237325</td>\n",
       "      <td>нет</td>\n",
       "      <td>0</td>\n",
       "      <td>rub</td>\n",
       "      <td>mobile</td>\n",
       "      <td>289.45</td>\n",
       "      <td>Мой билет</td>\n",
       "      <td>2</td>\n",
       "      <td>2067.51</td>\n",
       "      <td>NaN</td>\n",
       "    </tr>\n",
       "    <tr>\n",
       "      <th>2</th>\n",
       "      <td>7292370</td>\n",
       "      <td>0005ca5e93f2cf4</td>\n",
       "      <td>2024-10-06</td>\n",
       "      <td>2024-10-06 13:56:02</td>\n",
       "      <td>578454</td>\n",
       "      <td>нет</td>\n",
       "      <td>0</td>\n",
       "      <td>rub</td>\n",
       "      <td>mobile</td>\n",
       "      <td>1258.57</td>\n",
       "      <td>За билетом!</td>\n",
       "      <td>4</td>\n",
       "      <td>13984.16</td>\n",
       "      <td>75.0</td>\n",
       "    </tr>\n",
       "    <tr>\n",
       "      <th>3</th>\n",
       "      <td>1139875</td>\n",
       "      <td>000898990054619</td>\n",
       "      <td>2024-07-13</td>\n",
       "      <td>2024-07-13 19:40:48</td>\n",
       "      <td>387271</td>\n",
       "      <td>нет</td>\n",
       "      <td>0</td>\n",
       "      <td>rub</td>\n",
       "      <td>mobile</td>\n",
       "      <td>8.49</td>\n",
       "      <td>Лови билет!</td>\n",
       "      <td>2</td>\n",
       "      <td>212.28</td>\n",
       "      <td>NaN</td>\n",
       "    </tr>\n",
       "    <tr>\n",
       "      <th>4</th>\n",
       "      <td>972400</td>\n",
       "      <td>000898990054619</td>\n",
       "      <td>2024-10-04</td>\n",
       "      <td>2024-10-04 22:33:15</td>\n",
       "      <td>509453</td>\n",
       "      <td>нет</td>\n",
       "      <td>18</td>\n",
       "      <td>rub</td>\n",
       "      <td>mobile</td>\n",
       "      <td>1390.41</td>\n",
       "      <td>Билеты без проблем</td>\n",
       "      <td>3</td>\n",
       "      <td>10695.43</td>\n",
       "      <td>83.0</td>\n",
       "    </tr>\n",
       "  </tbody>\n",
       "</table>\n",
       "</div>"
      ],
      "text/plain": [
       "   order_id          user_id created_dt_msk       created_ts_msk  event_id  \\\n",
       "0   4359165  0002849b70a3ce2     2024-08-20  2024-08-20 16:08:03    169230   \n",
       "1   7965605  0005ca5e93f2cf4     2024-07-23  2024-07-23 18:36:24    237325   \n",
       "2   7292370  0005ca5e93f2cf4     2024-10-06  2024-10-06 13:56:02    578454   \n",
       "3   1139875  000898990054619     2024-07-13  2024-07-13 19:40:48    387271   \n",
       "4    972400  000898990054619     2024-10-04  2024-10-04 22:33:15    509453   \n",
       "\n",
       "  cinema_circuit  age_limit currency_code device_type_canonical  revenue  \\\n",
       "0            нет         16           rub                mobile  1521.94   \n",
       "1            нет          0           rub                mobile   289.45   \n",
       "2            нет          0           rub                mobile  1258.57   \n",
       "3            нет          0           rub                mobile     8.49   \n",
       "4            нет         18           rub                mobile  1390.41   \n",
       "\n",
       "         service_name  tickets_count     total  days_since_prev  \n",
       "0        Край билетов              4  10870.99              NaN  \n",
       "1           Мой билет              2   2067.51              NaN  \n",
       "2         За билетом!              4  13984.16             75.0  \n",
       "3         Лови билет!              2    212.28              NaN  \n",
       "4  Билеты без проблем              3  10695.43             83.0  "
      ]
     },
     "execution_count": 5,
     "metadata": {},
     "output_type": "execute_result"
    }
   ],
   "source": [
    "df_orders.head()"
   ]
  },
  {
   "cell_type": "code",
   "execution_count": 6,
   "id": "83b8cd59-eefc-4858-a64b-4b1bfe180e8b",
   "metadata": {},
   "outputs": [
    {
     "name": "stdout",
     "output_type": "stream",
     "text": [
      "<class 'pandas.core.frame.DataFrame'>\n",
      "RangeIndex: 22427 entries, 0 to 22426\n",
      "Data columns (total 11 columns):\n",
      " #   Column                  Non-Null Count  Dtype \n",
      "---  ------                  --------------  ----- \n",
      " 0   event_id                22427 non-null  int64 \n",
      " 1   event_name              22427 non-null  object\n",
      " 2   event_type_description  22427 non-null  object\n",
      " 3   event_type_main         22427 non-null  object\n",
      " 4   organizers              22427 non-null  object\n",
      " 5   region_name             22427 non-null  object\n",
      " 6   city_name               22427 non-null  object\n",
      " 7   city_id                 22427 non-null  int64 \n",
      " 8   venue_id                22427 non-null  int64 \n",
      " 9   venue_name              22427 non-null  object\n",
      " 10  venue_address           22427 non-null  object\n",
      "dtypes: int64(3), object(8)\n",
      "memory usage: 1.9+ MB\n"
     ]
    }
   ],
   "source": [
    "df_events.info()"
   ]
  },
  {
   "cell_type": "code",
   "execution_count": 7,
   "id": "8ba35175-b440-41f0-924b-6d171cce6854",
   "metadata": {},
   "outputs": [
    {
     "data": {
      "text/html": [
       "<div>\n",
       "<style scoped>\n",
       "    .dataframe tbody tr th:only-of-type {\n",
       "        vertical-align: middle;\n",
       "    }\n",
       "\n",
       "    .dataframe tbody tr th {\n",
       "        vertical-align: top;\n",
       "    }\n",
       "\n",
       "    .dataframe thead th {\n",
       "        text-align: right;\n",
       "    }\n",
       "</style>\n",
       "<table border=\"1\" class=\"dataframe\">\n",
       "  <thead>\n",
       "    <tr style=\"text-align: right;\">\n",
       "      <th></th>\n",
       "      <th>event_id</th>\n",
       "      <th>event_name</th>\n",
       "      <th>event_type_description</th>\n",
       "      <th>event_type_main</th>\n",
       "      <th>organizers</th>\n",
       "      <th>region_name</th>\n",
       "      <th>city_name</th>\n",
       "      <th>city_id</th>\n",
       "      <th>venue_id</th>\n",
       "      <th>venue_name</th>\n",
       "      <th>venue_address</th>\n",
       "    </tr>\n",
       "  </thead>\n",
       "  <tbody>\n",
       "    <tr>\n",
       "      <th>0</th>\n",
       "      <td>4436</td>\n",
       "      <td>e4f26fba-da77-4c61-928a-6c3e434d793f</td>\n",
       "      <td>спектакль</td>\n",
       "      <td>театр</td>\n",
       "      <td>№4893</td>\n",
       "      <td>Североярская область</td>\n",
       "      <td>Озёрск</td>\n",
       "      <td>2</td>\n",
       "      <td>1600</td>\n",
       "      <td>Кладбище искусств \"Проблема\" и партнеры</td>\n",
       "      <td>наб. Загородная, д. 785</td>\n",
       "    </tr>\n",
       "    <tr>\n",
       "      <th>1</th>\n",
       "      <td>5785</td>\n",
       "      <td>5cc08a60-fdea-4186-9bb2-bffc3603fb77</td>\n",
       "      <td>спектакль</td>\n",
       "      <td>театр</td>\n",
       "      <td>№1931</td>\n",
       "      <td>Светополянский округ</td>\n",
       "      <td>Глиноград</td>\n",
       "      <td>54</td>\n",
       "      <td>2196</td>\n",
       "      <td>Лекции по искусству \"Свет\" Групп</td>\n",
       "      <td>ул. Ягодная, д. 942</td>\n",
       "    </tr>\n",
       "    <tr>\n",
       "      <th>2</th>\n",
       "      <td>8817</td>\n",
       "      <td>8e379a89-3a10-4811-ba06-ec22ebebe989</td>\n",
       "      <td>спектакль</td>\n",
       "      <td>театр</td>\n",
       "      <td>№4896</td>\n",
       "      <td>Североярская область</td>\n",
       "      <td>Озёрск</td>\n",
       "      <td>2</td>\n",
       "      <td>4043</td>\n",
       "      <td>Кинокомитет \"Золотая\" Инк</td>\n",
       "      <td>ш. Коммуны, д. 92 стр. 6</td>\n",
       "    </tr>\n",
       "    <tr>\n",
       "      <th>3</th>\n",
       "      <td>8849</td>\n",
       "      <td>682e3129-6a32-4952-9d8a-ef7f60d4c247</td>\n",
       "      <td>спектакль</td>\n",
       "      <td>театр</td>\n",
       "      <td>№4960</td>\n",
       "      <td>Каменевский регион</td>\n",
       "      <td>Глиногорск</td>\n",
       "      <td>213</td>\n",
       "      <td>1987</td>\n",
       "      <td>Выставка ремесел \"Свет\" Лтд</td>\n",
       "      <td>пер. Набережный, д. 35</td>\n",
       "    </tr>\n",
       "    <tr>\n",
       "      <th>4</th>\n",
       "      <td>8850</td>\n",
       "      <td>d6e99176-c77f-4af0-9222-07c571f6c624</td>\n",
       "      <td>спектакль</td>\n",
       "      <td>театр</td>\n",
       "      <td>№4770</td>\n",
       "      <td>Лесодальний край</td>\n",
       "      <td>Родниковец</td>\n",
       "      <td>55</td>\n",
       "      <td>4230</td>\n",
       "      <td>Фестивальный проект \"Листья\" Групп</td>\n",
       "      <td>пер. Проезжий, д. 9</td>\n",
       "    </tr>\n",
       "  </tbody>\n",
       "</table>\n",
       "</div>"
      ],
      "text/plain": [
       "   event_id                            event_name event_type_description  \\\n",
       "0      4436  e4f26fba-da77-4c61-928a-6c3e434d793f              спектакль   \n",
       "1      5785  5cc08a60-fdea-4186-9bb2-bffc3603fb77              спектакль   \n",
       "2      8817  8e379a89-3a10-4811-ba06-ec22ebebe989              спектакль   \n",
       "3      8849  682e3129-6a32-4952-9d8a-ef7f60d4c247              спектакль   \n",
       "4      8850  d6e99176-c77f-4af0-9222-07c571f6c624              спектакль   \n",
       "\n",
       "  event_type_main organizers           region_name   city_name  city_id  \\\n",
       "0           театр      №4893  Североярская область      Озёрск        2   \n",
       "1           театр      №1931  Светополянский округ   Глиноград       54   \n",
       "2           театр      №4896  Североярская область      Озёрск        2   \n",
       "3           театр      №4960    Каменевский регион  Глиногорск      213   \n",
       "4           театр      №4770      Лесодальний край  Родниковец       55   \n",
       "\n",
       "   venue_id                               venue_name             venue_address  \n",
       "0      1600  Кладбище искусств \"Проблема\" и партнеры   наб. Загородная, д. 785  \n",
       "1      2196         Лекции по искусству \"Свет\" Групп       ул. Ягодная, д. 942  \n",
       "2      4043                Кинокомитет \"Золотая\" Инк  ш. Коммуны, д. 92 стр. 6  \n",
       "3      1987              Выставка ремесел \"Свет\" Лтд    пер. Набережный, д. 35  \n",
       "4      4230       Фестивальный проект \"Листья\" Групп       пер. Проезжий, д. 9  "
      ]
     },
     "execution_count": 7,
     "metadata": {},
     "output_type": "execute_result"
    }
   ],
   "source": [
    "df_events.head()"
   ]
  },
  {
   "cell_type": "code",
   "execution_count": 8,
   "id": "0df999b5-8bbe-4f9f-bd3f-8c496c660de1",
   "metadata": {},
   "outputs": [
    {
     "name": "stdout",
     "output_type": "stream",
     "text": [
      "<class 'pandas.core.frame.DataFrame'>\n",
      "RangeIndex: 357 entries, 0 to 356\n",
      "Data columns (total 4 columns):\n",
      " #   Column   Non-Null Count  Dtype  \n",
      "---  ------   --------------  -----  \n",
      " 0   data     357 non-null    object \n",
      " 1   nominal  357 non-null    int64  \n",
      " 2   curs     357 non-null    float64\n",
      " 3   cdx      357 non-null    object \n",
      "dtypes: float64(1), int64(1), object(2)\n",
      "memory usage: 11.3+ KB\n"
     ]
    }
   ],
   "source": [
    "df_currency.info()"
   ]
  },
  {
   "cell_type": "code",
   "execution_count": 9,
   "id": "6a5fce17-2d35-4e3c-a250-6b30b633aac9",
   "metadata": {},
   "outputs": [
    {
     "name": "stdout",
     "output_type": "stream",
     "text": [
      "<class 'pandas.core.frame.DataFrame'>\n",
      "RangeIndex: 357 entries, 0 to 356\n",
      "Data columns (total 4 columns):\n",
      " #   Column   Non-Null Count  Dtype  \n",
      "---  ------   --------------  -----  \n",
      " 0   data     357 non-null    object \n",
      " 1   nominal  357 non-null    int64  \n",
      " 2   curs     357 non-null    float64\n",
      " 3   cdx      357 non-null    object \n",
      "dtypes: float64(1), int64(1), object(2)\n",
      "memory usage: 11.3+ KB\n"
     ]
    }
   ],
   "source": [
    "df_currency.info()"
   ]
  },
  {
   "cell_type": "code",
   "execution_count": 10,
   "id": "76046d87-9a23-45e6-93e7-01816a27e269",
   "metadata": {},
   "outputs": [
    {
     "data": {
      "text/html": [
       "<div>\n",
       "<style scoped>\n",
       "    .dataframe tbody tr th:only-of-type {\n",
       "        vertical-align: middle;\n",
       "    }\n",
       "\n",
       "    .dataframe tbody tr th {\n",
       "        vertical-align: top;\n",
       "    }\n",
       "\n",
       "    .dataframe thead th {\n",
       "        text-align: right;\n",
       "    }\n",
       "</style>\n",
       "<table border=\"1\" class=\"dataframe\">\n",
       "  <thead>\n",
       "    <tr style=\"text-align: right;\">\n",
       "      <th></th>\n",
       "      <th>data</th>\n",
       "      <th>nominal</th>\n",
       "      <th>curs</th>\n",
       "      <th>cdx</th>\n",
       "    </tr>\n",
       "  </thead>\n",
       "  <tbody>\n",
       "    <tr>\n",
       "      <th>0</th>\n",
       "      <td>2024-01-10</td>\n",
       "      <td>100</td>\n",
       "      <td>19.9391</td>\n",
       "      <td>kzt</td>\n",
       "    </tr>\n",
       "    <tr>\n",
       "      <th>1</th>\n",
       "      <td>2024-01-11</td>\n",
       "      <td>100</td>\n",
       "      <td>19.7255</td>\n",
       "      <td>kzt</td>\n",
       "    </tr>\n",
       "    <tr>\n",
       "      <th>2</th>\n",
       "      <td>2024-01-12</td>\n",
       "      <td>100</td>\n",
       "      <td>19.5839</td>\n",
       "      <td>kzt</td>\n",
       "    </tr>\n",
       "    <tr>\n",
       "      <th>3</th>\n",
       "      <td>2024-01-13</td>\n",
       "      <td>100</td>\n",
       "      <td>19.4501</td>\n",
       "      <td>kzt</td>\n",
       "    </tr>\n",
       "    <tr>\n",
       "      <th>4</th>\n",
       "      <td>2024-01-14</td>\n",
       "      <td>100</td>\n",
       "      <td>19.4501</td>\n",
       "      <td>kzt</td>\n",
       "    </tr>\n",
       "  </tbody>\n",
       "</table>\n",
       "</div>"
      ],
      "text/plain": [
       "         data  nominal     curs  cdx\n",
       "0  2024-01-10      100  19.9391  kzt\n",
       "1  2024-01-11      100  19.7255  kzt\n",
       "2  2024-01-12      100  19.5839  kzt\n",
       "3  2024-01-13      100  19.4501  kzt\n",
       "4  2024-01-14      100  19.4501  kzt"
      ]
     },
     "execution_count": 10,
     "metadata": {},
     "output_type": "execute_result"
    }
   ],
   "source": [
    "df_currency.head()"
   ]
  },
  {
   "cell_type": "code",
   "execution_count": 11,
   "id": "3a5755c8-3c0b-415e-807e-b5c9e9f68a27",
   "metadata": {},
   "outputs": [
    {
     "data": {
      "text/plain": [
       "array([100])"
      ]
     },
     "execution_count": 11,
     "metadata": {},
     "output_type": "execute_result"
    }
   ],
   "source": [
    "df_currency['nominal'].unique()"
   ]
  },
  {
   "cell_type": "markdown",
   "id": "1946346d-77b4-4082-998f-4cf86d1ec242",
   "metadata": {},
   "source": [
    "### Промежуточные выводы после первичного анализа данных\n",
    "1. Обнаружены пропуски в столбце days_since_prev, что вполне ожидаемо для первых покупок пользователей. Мероприятия и курсы валют пропусков не содержат. Все датасеты соответствуют описанию полей.\n",
    "2. В качестве преобработки надо изменить тип данных в полях created_dt_msk, created_ts_msk в датафрейме df_orders и в поле data в датафрейме data_currency "
   ]
  },
  {
   "cell_type": "markdown",
   "id": "7cf477b7-1cb1-4b8d-bae1-5930a2a72f02",
   "metadata": {},
   "source": [
    "# Шаг 2. Предобработка данных и подготовка их к исследованию"
   ]
  },
  {
   "cell_type": "markdown",
   "id": "b1e5cc96-d226-4cfb-8293-6615947aa2f6",
   "metadata": {},
   "source": [
    "Проверяем данные на пропущенные значения "
   ]
  },
  {
   "cell_type": "code",
   "execution_count": 12,
   "id": "ae4dae30-feac-4115-97d0-dc77238ba4c7",
   "metadata": {},
   "outputs": [
    {
     "name": "stdout",
     "output_type": "stream",
     "text": [
      "order_id                     0\n",
      "user_id                      0\n",
      "created_dt_msk               0\n",
      "created_ts_msk               0\n",
      "event_id                     0\n",
      "cinema_circuit               0\n",
      "age_limit                    0\n",
      "currency_code                0\n",
      "device_type_canonical        0\n",
      "revenue                      0\n",
      "service_name                 0\n",
      "tickets_count                0\n",
      "total                        0\n",
      "days_since_prev          21940\n",
      "dtype: int64\n"
     ]
    }
   ],
   "source": [
    "print(df_orders.isnull().sum())"
   ]
  },
  {
   "cell_type": "code",
   "execution_count": 13,
   "id": "85642022-7e99-43a5-9900-9458fa837d0d",
   "metadata": {},
   "outputs": [
    {
     "name": "stdout",
     "output_type": "stream",
     "text": [
      "event_id                  0\n",
      "event_name                0\n",
      "event_type_description    0\n",
      "event_type_main           0\n",
      "organizers                0\n",
      "region_name               0\n",
      "city_name                 0\n",
      "city_id                   0\n",
      "venue_id                  0\n",
      "venue_name                0\n",
      "venue_address             0\n",
      "dtype: int64\n"
     ]
    }
   ],
   "source": [
    "print(df_events.isnull().sum())"
   ]
  },
  {
   "cell_type": "code",
   "execution_count": 14,
   "id": "c5482691-6f5f-4de7-8f55-5f2d01c64bcb",
   "metadata": {},
   "outputs": [
    {
     "name": "stdout",
     "output_type": "stream",
     "text": [
      "data       0\n",
      "nominal    0\n",
      "curs       0\n",
      "cdx        0\n",
      "dtype: int64\n"
     ]
    }
   ],
   "source": [
    "print(df_currency.isnull().sum())"
   ]
  },
  {
   "cell_type": "markdown",
   "id": "3de1e44a-2f43-4337-b2ab-0b8997cfd0a6",
   "metadata": {},
   "source": [
    "Видим, что пропуски данных есть только в поле days_since_prev"
   ]
  },
  {
   "cell_type": "markdown",
   "id": "d8c1ac69-49fe-4ee4-bb6d-f74cc6469625",
   "metadata": {},
   "source": [
    "Рассмотрим категориальные значения"
   ]
  },
  {
   "cell_type": "code",
   "execution_count": 20,
   "id": "a3683d6b-de07-4242-9037-16900d0f67fa",
   "metadata": {},
   "outputs": [
    {
     "name": "stdout",
     "output_type": "stream",
     "text": [
      "\n",
      "Уникальные значения device_type_canonical:\n",
      "device_type_canonical\n",
      "mobile     232679\n",
      "desktop     58170\n",
      "Name: count, dtype: int64\n",
      "\n",
      "Уникальные значения currency_code:\n",
      "currency_code\n",
      "rub    285780\n",
      "kzt      5069\n",
      "Name: count, dtype: int64\n",
      "\n",
      "Уникальные значения cinema_circuit:\n",
      "cinema_circuit\n",
      "нет           289451\n",
      "Другое          1261\n",
      "КиноСити         122\n",
      "Киномакс           7\n",
      "Москино            7\n",
      "ЦентрФильм         1\n",
      "Name: count, dtype: int64\n",
      "\n",
      "Уникальные значения event_type_main:\n",
      "event_type_main\n",
      "концерты    8680\n",
      "театр       7076\n",
      "другое      4658\n",
      "спорт        872\n",
      "стендап      636\n",
      "выставки     290\n",
      "ёлки         215\n",
      "Name: count, dtype: int64\n",
      "\n",
      "Уникальные значения age_limit:\n",
      "age_limit\n",
      "16    78579\n",
      "12    62557\n",
      "0     61487\n",
      "6     52173\n",
      "18    36053\n",
      "Name: count, dtype: int64\n",
      "\n",
      "Уникальные значения region_name:\n",
      "region_name\n",
      "Каменевский регион          5983\n",
      "Североярская область        3814\n",
      "Широковская область         1233\n",
      "Светополянский округ        1075\n",
      "Речиновская область          702\n",
      "                            ... \n",
      "Светолесский край              2\n",
      "Сосноводолинская область       2\n",
      "Лесноярский край               2\n",
      "Теплоозёрский округ            2\n",
      "Верхозёрский край              2\n",
      "Name: count, Length: 81, dtype: int64\n",
      "\n",
      "Уникальные значения service_name:\n",
      "service_name\n",
      "Билеты без проблем        63709\n",
      "Лови билет!               41126\n",
      "Билеты в руки             40364\n",
      "Мой билет                 34843\n",
      "Облачко                   26642\n",
      "Лучшие билеты             17795\n",
      "Весь в билетах            16849\n",
      "Прачечная                 10273\n",
      "Край билетов               6207\n",
      "Тебе билет!                5228\n",
      "Яблоко                     5039\n",
      "Дом культуры               4502\n",
      "За билетом!                2865\n",
      "Городской дом культуры     2733\n",
      "Show_ticket                2200\n",
      "Мир касс                   2167\n",
      "Быстробилет                2003\n",
      "Выступления.ру             1616\n",
      "Восьмёрка                  1118\n",
      "Crazy ticket!               790\n",
      "Росбилет                    539\n",
      "Шоу начинается!             499\n",
      "Быстрый кассир              381\n",
      "Радио ticket                376\n",
      "Телебилет                   321\n",
      "КарандашРУ                  133\n",
      "Реестр                      125\n",
      "Билет по телефону            85\n",
      "Вперёд!                      80\n",
      "Дырокол                      74\n",
      "Кино билет                   67\n",
      "Цвет и билет                 61\n",
      "Тех билет                    22\n",
      "Лимоны                        8\n",
      "Зе Бест!                      5\n",
      "Билеты в интернете            4\n",
      "Name: count, dtype: int64\n"
     ]
    }
   ],
   "source": [
    "print(\"\\nУникальные значения device_type_canonical:\")\n",
    "print(df_orders['device_type_canonical'].value_counts())\n",
    "\n",
    "print(\"\\nУникальные значения currency_code:\")\n",
    "print(df_orders['currency_code'].value_counts())\n",
    "\n",
    "print(\"\\nУникальные значения cinema_circuit:\")\n",
    "print(df_orders['cinema_circuit'].value_counts())\n",
    "\n",
    "print(\"\\nУникальные значения event_type_main:\")\n",
    "print(df_events['event_type_main'].value_counts())\n",
    "\n",
    "print(\"\\nУникальные значения age_limit:\")\n",
    "print(df_orders['age_limit'].value_counts())\n",
    "\n",
    "print(\"\\nУникальные значения region_name:\")\n",
    "print(df_events['region_name'].value_counts())\n",
    "\n",
    "print(\"\\nУникальные значения service_name:\")\n",
    "print(df_orders['service_name'].value_counts())"
   ]
  },
  {
   "cell_type": "markdown",
   "id": "8f178cc5-738a-41a1-a7cb-5d1fd243e3c9",
   "metadata": {},
   "source": [
    "По данным уникальных значений можно сделать следующие выводы: категория Mobile доминирует над категорией Desktop, основной валютой являются рубли, также самыми популярными категориями являются концерты и театр."
   ]
  },
  {
   "cell_type": "markdown",
   "id": "91d67dbe-41b1-4e5f-bc83-727602030c3e",
   "metadata": {},
   "source": [
    "### Выводы по предобработке данных и подготовке к исследованию\n",
    "\n",
    "#### 1. Пропущенные значения\n",
    "\n",
    "- Датасет заказов (orders): \n",
    "  В столбце days_since_prev присутствуют 21 940 пропусков. Скорее всего, они соответствуют первым заказам пользователей, для которых нет предыдущих покупок. Остальные поля не содержат пропусков.\n",
    "\n",
    "- Датасет мероприятий (events):  \n",
    "  Данные полные, пропущенных значений нет — можно использовать без дополнительной очистки.\n",
    "\n",
    "- Датасет курса тенге (tenge):  \n",
    "  Пропуски отсутствуют — таблица готова к дальнейшей работе.\n",
    "\n",
    "#### 2. Анализ категориальных признаков\n",
    "\n",
    "- Тип устройства (device_type_canonical):  \n",
    "  Большинство заказов оформлено с мобильных устройств — 232 679 записей против 58 170 с десктопов, что соответствует современным трендам в e-commerce.\n",
    "\n",
    "- Валюта (currency_code):  \n",
    "  Основной валютой является российский рубль (RUB) — 285 780 заказов. Транзакции в тенге (KZT) встречаются значительно реже — 5 069.\n",
    "\n",
    "- Киносеть (cinema_circuit): \n",
    "  В большинстве случаев (289 451 запись) заказ не относится к киносети. Среди упомянутых киносетей чаще всего встречается категория \"Другое\" (1 261), тогда как конкретные сети (КиноСити, Киномакс, Москино, ЦентрФильм) представлены в небольшом объёме.\n",
    "\n",
    "- Тип мероприятия (event_type_main):\n",
    "  Наиболее популярные категории — концерты (8 680) и театр (7 076). Менее распространены спорт (872), стендап (636), выставки (290) и ёлки (215).\n"
   ]
  },
  {
   "cell_type": "code",
   "execution_count": null,
   "id": "3ecf06b1-5243-4fad-b66d-8deba76dc0da",
   "metadata": {},
   "outputs": [],
   "source": []
  },
  {
   "cell_type": "markdown",
   "id": "4904a0f6-ef16-4241-93a5-0f888935e8a9",
   "metadata": {},
   "source": [
    "### Анализ категориальных данных\n",
    "\n",
    "\n",
    "#### 1. device_type_canonical — Тип устройства\n",
    "| Устройство | Количество | Доля |\n",
    "|------------|------------|------|\n",
    "| mobile     | 232,679    | ≈ 80% |\n",
    "| desktop    | 58,170     | ≈ 20% |\n",
    "\n",
    "Вывод:\n",
    "Преобладают мобильные пользователи. Необходим приоритет mobile-first дизайна.\n",
    "\n",
    "\n",
    "### 2. currency_code — Валюта\n",
    "| Валюта | Количество | Доля |\n",
    "|--------|------------|------|\n",
    "| rub    | 285,780    | ≈ 98.3% |\n",
    "| kzt    | 5,069      | ≈ 1.7%  |\n",
    "\n",
    "Вывод:  \n",
    "Целевая аудитория — в основном Россия. Казахстан — вторичный, но важный рынок.\n",
    "\n",
    "\n",
    "### 3. cinema_circuit — Сеть кинотеатров\n",
    "| Сеть       | Количество |\n",
    "|------------|------------|\n",
    "| нет        | 289,451    |\n",
    "| Другое     | 1,261      |\n",
    "| КиноСити   | 122        |\n",
    "| Киномакс   | 7          |\n",
    "| Москвино   | 7          |\n",
    "| ЦентрФильм | 1          |\n",
    "\n",
    "Вывод:\n",
    "Почти все записи не привязаны к сетям. Возможна неполная заполняемость поля.\n",
    "\n",
    "\n",
    "### 4. event_type_main — Основной тип события\n",
    "| Тип события | Кол-во |\n",
    "|-------------|--------|\n",
    "| концерты    | 8,680  |\n",
    "| театр       | 7,076  |\n",
    "| другое      | 4,658  |\n",
    "| спорт       | 872    |\n",
    "| стендап     | 636    |\n",
    "| выставки    | 290    |\n",
    "| ёлки        | 215    |\n",
    "\n",
    "Вывод: \n",
    "Концерты и театр — самые популярные категории. Высокая доля \"другое\" может указывать на необходимость пересмотра структуры классификации.\n",
    "\n",
    "\n",
    "### 5. age_limit — Возрастное ограничение\n",
    "| Возраст | Кол-во |\n",
    "|---------|--------|\n",
    "| 16      | 78,579 |\n",
    "| 12      | 62,557 |\n",
    "| 0       | 61,487 |\n",
    "| 6       | 52,173 |\n",
    "| 18      | 36,053 |\n",
    "\n",
    "Вывод:\n",
    "- Наиболее частые значения: 16, 12 и 0.  \n",
    "- Наличие значения 0 может означать \"без ограничений\", но его следует явно описать или заменить.\n",
    "- Возраст 18 встречается значительно реже, что может говорить о меньшей популярности мероприятий \"только для взрослых\".\n",
    "\n",
    "\n",
    "### 6. region_name — Регион\n",
    "- Всего уникальных регионов: 81\n",
    "- Дисбаланс в частотах: от 5983 до 2 записей на регион\n",
    "\n",
    "Вывод:\n",
    "- Сильный дисбаланс: верхние 5 регионов дают значительную часть данных.\n",
    "- Нижние регионы с 2–10 записями могут рассматриваться как выбросы или данные с низкой репрезентативностью.\n",
    "- Возможна агрегация малых регионов в одну категорию типа \"прочее\" для анализа.\n",
    "\n",
    "\n",
    "### 7. service_name — Название билетного сервиса\n",
    "- Всего уникальных сервисов: 34\n",
    "- Наиболее популярные:\n",
    "  | Сервис              | Кол-во |\n",
    "  |---------------------|--------|\n",
    "  | Билеты без проблем  | 63,709 |\n",
    "  | Лови билет!         | 41,126 |\n",
    "  | Билеты в руки       | 40,364 |\n",
    "  | Мой билет           | 34,843 |\n",
    "\n",
    "- Наименее популярные (возможно выбросы или тестовые данные):\n",
    "  | Сервис                 | Кол-во |\n",
    "  |------------------------|--------|\n",
    "  | Билеты в интернете     | 4      |\n",
    "  | Зе Бест!               | 5      |\n",
    "  | Лимоны                 | 8      |\n",
    "\n",
    "Вывод: \n",
    "- Сервисы с крайне малым количеством записей могут быть:\n",
    "  - Тестовыми / временными\n",
    "  - Введёнными вручную\n",
    "  - Ошибочными (особенно с нестандартными названиями)\n",
    "- Для анализа можно исключить сервисы с частотой < 50 как потенциальные выбросы.\n",
    "\n",
    "\n",
    "### Общие рекомендации:\n",
    "1. Очистка и стандартизация данных:\n",
    "   - Обработать возраст 0 (явно указать как \"без ограничений\")\n",
    "   - Объединить редкие регионы в `\"другие\"`\n",
    "   - Пересмотреть сервисы с низкой частотой — потенциально удалить или агрегировать\n",
    "\n",
    "2. Снижение доли \"другое\" в типах событий за счёт уточнения классификации.\n",
    "\n",
    "3. Фокус на мобильную версию интерфейса — подавляющее большинство пользователей с мобильных устройств.\n",
    "\n",
    "4. Выбросы:\n",
    "   - Регионы и сервисы с единичными значениями можно отнести к выбросам.\n",
    "   - Рекомендуется пороговое отсечение или группировка в \"прочее\".\n",
    "\n",
    "5. Стратегии сегментации:\n",
    "   - По возрасту: возможно таргетирование на 12+ и 16+\n",
    "   - По региону: приоритизация регионов с наибольшей активностью\n",
    "   - По сервисам: анализировать топ-5 сервисов отдельно как ключевые каналы\n",
    "\n"
   ]
  },
  {
   "cell_type": "code",
   "execution_count": null,
   "id": "ff8df564-26b1-493d-bb92-ce706f3d04ea",
   "metadata": {},
   "outputs": [],
   "source": [
    "rub_orders = df_orders[df_orders['currency_code'] == 'rub']\n",
    "kzt_orders = df_orders[df_orders['currency_code'] == 'kzt']"
   ]
  },
  {
   "cell_type": "code",
   "execution_count": null,
   "id": "873309c6-7879-430e-95b0-23ebe7f4d71d",
   "metadata": {},
   "outputs": [],
   "source": [
    "plt.figure(figsize=(12, 6))\n",
    "plt.subplot(1, 2, 1)\n",
    "sns.boxplot(data=rub_orders, y='revenue')\n",
    "plt.title('Выручка в рублях')\n",
    "\n",
    "plt.subplot(1, 2, 2)\n",
    "sns.boxplot(data=kzt_orders, y='revenue')\n",
    "plt.title('Выручка в тенге')\n",
    "plt.show()\n",
    "\n",
    "revenue_rub_threshold = rub_orders['revenue'].quantile(0.99)\n",
    "revenue_kzt_threshold = kzt_orders['revenue'].quantile(0.99)\n",
    "\n",
    "df_orders = df_orders[~((df_orders['currency_code'] == 'rub') & (df_orders['revenue'] > revenue_rub_threshold) | \n",
    "               ((df_orders['currency_code'] == 'kzt') & (df_orders['revenue'] > revenue_kzt_threshold)))] #фильтруем выбросы в данных"
   ]
  },
  {
   "cell_type": "markdown",
   "id": "148c9dd3-0037-4039-b1d0-f54ec33f37dc",
   "metadata": {},
   "source": [
    "Рассмотрим отдельно анализ числа билетов"
   ]
  },
  {
   "cell_type": "code",
   "execution_count": null,
   "id": "ce817db0-670d-4c3f-81e0-0432b50eba51",
   "metadata": {},
   "outputs": [],
   "source": [
    "df_orders['tickets_count'].describe()"
   ]
  },
  {
   "cell_type": "markdown",
   "id": "104f4b01-058a-4bd2-9b36-723d70867be9",
   "metadata": {},
   "source": [
    "Проведем так же фильтрацию из-за выбросов"
   ]
  },
  {
   "cell_type": "code",
   "execution_count": null,
   "id": "6ae0186f-0c5d-43b1-97d1-9c68a35e8811",
   "metadata": {},
   "outputs": [],
   "source": [
    "tickets_threshold = df_orders['tickets_count'].quantile(0.99)  \n",
    "df_orders = df_orders[df_orders['tickets_count'] <= tickets_threshold]"
   ]
  },
  {
   "cell_type": "markdown",
   "id": "725e2566-dc51-44c2-9508-e794c9f05a33",
   "metadata": {},
   "source": [
    "Можем сделать вывод, что максимальное значение билетов равно 57 и является выбросом, либо это был групповой заказ, либо ошибка\n",
    "Типичный заказ это 3 билета."
   ]
  },
  {
   "cell_type": "markdown",
   "id": "c7fb01fc-1214-4a43-a05c-e4a1246b00a5",
   "metadata": {},
   "source": [
    "Теперь проверим данные в заказах на явные и неявные дубликаты"
   ]
  },
  {
   "cell_type": "code",
   "execution_count": null,
   "id": "e349ed66",
   "metadata": {},
   "outputs": [],
   "source": [
    "print(\"Явные дубликаты в заказах:\", df_orders.duplicated().sum())"
   ]
  },
  {
   "cell_type": "code",
   "execution_count": null,
   "id": "36126ee6-3b87-4866-bc90-5502a0709b8e",
   "metadata": {},
   "outputs": [],
   "source": [
    "duplicate_columns = ['user_id', 'created_dt_msk', 'event_id', 'total']\n",
    "print(\"\\nНеявные дубликаты:\", df_orders.duplicated(subset=duplicate_columns).sum())"
   ]
  },
  {
   "cell_type": "markdown",
   "id": "eed107ac-3742-4cab-96ea-3a1167a83f79",
   "metadata": {},
   "source": [
    "Видим, что явные дубликаты не обнаружены"
   ]
  },
  {
   "cell_type": "code",
   "execution_count": null,
   "id": "1f1a4ff6-fcdb-4fd0-9cc3-d139a4b29a13",
   "metadata": {},
   "outputs": [],
   "source": [
    "columns_to_check = df_orders.columns.drop('order_id')  \n",
    "duplicates_all = df_orders.duplicated(subset=columns_to_check).sum()\n",
    "print(f\"Неявные дубликаты (все поля кроме order_id): {duplicates_all}\") # мы проверяем неявные дубликаты по всем полям, кроме "
   ]
  },
  {
   "cell_type": "code",
   "execution_count": null,
   "id": "6cbaa570-7832-4453-b830-5c7d0f71ada9",
   "metadata": {},
   "outputs": [],
   "source": [
    "df_orders_cleaned = df_orders.drop_duplicates(subset=columns_to_check, keep='first')\n",
    "\n",
    "print(f\"Удалено записей: {len(df_orders) - len(df_orders_cleaned)}\")"
   ]
  },
  {
   "cell_type": "markdown",
   "id": "184cc82e-5704-4b7f-9c30-3b81e313c699",
   "metadata": {},
   "source": [
    "Были найдены неявные дубликаты\n",
    "Было принято решение удалить дубликаты с сохранением первой строчки, так как сохранение всех имеющихся записей могло исказить анализ"
   ]
  },
  {
   "cell_type": "markdown",
   "id": "071e6383-1046-4c47-a135-83e19797f6ea",
   "metadata": {},
   "source": [
    "Теперь нужно привести данные к нужному типу"
   ]
  },
  {
   "cell_type": "code",
   "execution_count": null,
   "id": "bd28faf6-3142-422e-a335-7d7fca109f30",
   "metadata": {},
   "outputs": [],
   "source": [
    "df_orders_cleaned = df_orders_cleaned.copy()  \n",
    "df_orders_cleaned['created_dt_msk'] = pd.to_datetime(df_orders_cleaned['created_dt_msk'])\n",
    "df_orders_cleaned['created_ts_msk'] = pd.to_datetime(df_orders_cleaned['created_ts_msk'])\n",
    "df_orders_cleaned['tickets_count'] = pd.to_numeric(df_orders_cleaned['tickets_count'], downcast='integer')\n",
    "df_orders_cleaned['age_limit'] = pd.to_numeric(df_orders_cleaned['age_limit'], downcast='integer')\n",
    "df_currency['data'] = pd.to_datetime(df_currency['data'])"
   ]
  },
  {
   "cell_type": "code",
   "execution_count": null,
   "id": "43283c6e-71fa-4921-9cd1-d3be99312aa4",
   "metadata": {},
   "outputs": [],
   "source": [
    "print(df_orders_cleaned.dtypes[['created_dt_msk', 'created_ts_msk']])"
   ]
  },
  {
   "cell_type": "code",
   "execution_count": null,
   "id": "2c61f7d8-a634-41c7-94e8-bc5566a57183",
   "metadata": {},
   "outputs": [],
   "source": [
    "df = pd.merge(df_orders_cleaned, df_events, on='event_id', how='left')"
   ]
  },
  {
   "cell_type": "code",
   "execution_count": null,
   "id": "d1b0b1bf-d3c5-43e3-98e5-876c3b682c37",
   "metadata": {},
   "outputs": [],
   "source": [
    "df.head()"
   ]
  },
  {
   "cell_type": "code",
   "execution_count": null,
   "id": "ed6c6035-5902-46d7-b8a1-58608094d42a",
   "metadata": {},
   "outputs": [],
   "source": [
    "df.info()"
   ]
  },
  {
   "cell_type": "code",
   "execution_count": null,
   "id": "6386ee9f",
   "metadata": {},
   "outputs": [],
   "source": [
    "tenge_dict = {k.date(): v/100 for k, v in df_currency.set_index('data')['curs'].to_dict().items()}\n",
    "\n",
    "def convert_to_rub(row):\n",
    "    if row['currency_code'] == 'kzt':\n",
    "        date = row['created_dt_msk'].date()\n",
    "        rate = tenge_dict[date]  \n",
    "        return row['revenue'] * rate\n",
    "    return row['revenue']"
   ]
  },
  {
   "cell_type": "code",
   "execution_count": null,
   "id": "1cd86084-c144-43ca-8b92-96397b6fc991",
   "metadata": {},
   "outputs": [],
   "source": [
    "df['revenue_rub'] = df.apply(convert_to_rub, axis=1)\n",
    "df['one_ticket_revenue_rub'] = df['revenue_rub'] / df['tickets_count']\n",
    "\n",
    "df['month'] = df['created_dt_msk'].dt.month\n",
    "df['season'] = df['month'].apply(lambda x: 'зима' if x in [12,1,2] else \n",
    "                                      'весна' if x in [3,4,5] else \n",
    "                                      'лето' if x in [6,7,8] else 'осень')"
   ]
  },
  {
   "cell_type": "code",
   "execution_count": null,
   "id": "a086e760-25d7-49e0-93c8-59689e329401",
   "metadata": {},
   "outputs": [],
   "source": [
    "df.info()"
   ]
  },
  {
   "cell_type": "markdown",
   "id": "6ba1eef1-1f24-4009-8d41-6cb4765a8646",
   "metadata": {},
   "source": [
    "### Отчет по предобработке данных\n",
    "\n",
    "### 1. Объем данных после фильтрации\n",
    "\n",
    "- Исходный размер данных:\n",
    "  - Заказы: 290 849 записей  \n",
    "  - Мероприятия: 22 427 записей  \n",
    "  - Курсы тенге: 357 записей\n",
    "\n",
    "- Размер итогового датафрейма после обработки:  \n",
    "  287 962 строк × 28 столбцов\n",
    "\n",
    "### 2. Основные этапы обработки\n",
    "\n",
    "#### Обработка пропусков\n",
    "\n",
    "- Пропущенные значения найдены только в столбце days_since_prev:  \n",
    "  21 940 пропусков\n",
    "- Все остальные поля заполнены полностью.\n",
    "\n",
    "#### Удаление выбросов\n",
    "\n",
    "- Исключены заказы с выручкой выше 99-го перцентиля\n",
    "\n",
    "#### Конвертация валют\n",
    "\n",
    "- Все значения выручки переведены в рубли по курсу.\n",
    "- Добавлен столбец revenue_rub — унифицированный показатель выручки в рублях.\n",
    "\n",
    "#### Новые метрики\n",
    "\n",
    "- revenue_rub — единый показатель выручки для всех валют.\n",
    "- one_ticket_revenue_rub — средняя выручка на билет.\n",
    "- season — метка сезона, использована для анализа сезонных паттернов.\n"
   ]
  },
  {
   "cell_type": "markdown",
   "id": "f87be8bb-d979-44d1-b873-2dd5ce695e42",
   "metadata": {},
   "source": [
    "# Шаг 3. Исследовательский анализ данных"
   ]
  },
  {
   "cell_type": "markdown",
   "id": "c983cf5c-86b1-4a53-b469-28a2c57d7f22",
   "metadata": {},
   "source": [
    "## 3.1. Анализ распределения заказов по сегментам и их сезонные изменения"
   ]
  },
  {
   "cell_type": "code",
   "execution_count": null,
   "id": "5e15b298-dd89-4d95-8aa8-f4c357fa8400",
   "metadata": {},
   "outputs": [],
   "source": [
    "orders_per_month = df.groupby('month')['order_id'].count().reset_index()\n",
    "\n",
    "plt.figure(figsize=(14, 7))\n",
    "sns.lineplot(data=orders_per_month, x='month', y='order_id', marker='o')\n",
    "plt.title('Динамика количества заказов по месяцам (2024)')\n",
    "plt.xlabel('Месяц')\n",
    "plt.ylabel('Количество заказов')\n",
    "plt.grid(True)\n",
    "plt.show()"
   ]
  },
  {
   "cell_type": "code",
   "execution_count": null,
   "id": "6d04ec66-fcb3-49c7-823f-d9c6533b51c7",
   "metadata": {},
   "outputs": [],
   "source": [
    "# plt.figure(figsize=(16, 10))\n",
    "\n",
    "# season_data = df.groupby(['event_type_main', 'season'])['order_id'].count().unstack()\n",
    "# season_percent = season_data.div(season_data.sum(axis=1), axis=0) * 100\n",
    "\n",
    "# n_types = len(season_percent)\n",
    "# ind = np.arange(n_types)\n",
    "# width = 0.35\n",
    "\n",
    "# fig, ax = plt.subplots(figsize=(16, 10))\n",
    "# summer_bars = ax.bar(ind - width/2, season_percent['лето'], width, \n",
    "#                     color='#3498db', label='Лето', edgecolor='white')\n",
    "# autumn_bars = ax.bar(ind + width/2, season_percent['осень'], width, \n",
    "#                     color='#e74c3c', label='Осень', edgecolor='white')\n",
    "\n",
    "# ax.set_title('Распределение заказов по типам мероприятий по сезонам\\n', \n",
    "#             fontsize=16, pad=20, fontweight='bold')\n",
    "# ax.set_xlabel('Тип мероприятия', fontsize=14)\n",
    "# ax.set_ylabel('Доля заказов, %', fontsize=14)\n",
    "# ax.set_xticks(ind)\n",
    "# ax.set_xticklabels(season_percent.index, rotation=45, ha='right', fontsize=12)\n",
    "# ax.set_ylim(0, 110)\n",
    "# ax.yaxis.grid(True, linestyle='--', alpha=0.6)\n",
    "\n",
    "# def add_labels(bars):\n",
    "#     for bar in bars:\n",
    "#         height = bar.get_height()\n",
    "#         if height > 5: \n",
    "#             ax.text(bar.get_x() + bar.get_width()/2., height/2,\n",
    "#                     f'{height:.1f}%', ha='center', va='center',\n",
    "#                     color='white', fontsize=11, fontweight='bold')\n",
    "\n",
    "# add_labels(summer_bars)\n",
    "# add_labels(autumn_bars)\n",
    "# ax.legend(fontsize=12, framealpha=1, shadow=True,\n",
    "#          title='Сезон:', title_fontsize=13,\n",
    "#          bbox_to_anchor=(1, 1), loc='upper left')\n",
    "\n",
    "# plt.tight_layout()\n",
    "# plt.subplots_adjust(top=0.9, bottom=0.15, right=0.85)\n",
    "# plt.show()\n",
    "\n",
    "season_data = df.groupby(['season', 'event_type_main'])['order_id'].count().unstack()\n",
    "\n",
    "season_percent = season_data.div(season_data.sum(axis=1), axis=0) * 100\n",
    "\n",
    "seasons = ['лето', 'осень']\n",
    "colors = ['#3498db', '#e74c3c', '#2ecc71', '#f39c12', '#9b59b6', '#1abc9c', '#95a5a6']\n",
    "event_types = season_percent.columns.tolist()\n",
    "\n",
    "fig, axes = plt.subplots(nrows=1, ncols=len(seasons), figsize=(18, 8), sharey=True)\n",
    "\n",
    "for i, season in enumerate(seasons):\n",
    "    ax = axes[i]\n",
    "    values = season_percent.loc[season]\n",
    "    bars = ax.barh(event_types, values, color=colors[:len(event_types)], edgecolor='white')\n",
    "    \n",
    "    ax.set_title(f'{season.capitalize()}', fontsize=15, fontweight='bold')\n",
    "    ax.set_xlim(0, 100)\n",
    "    ax.set_xlabel('Доля заказов, %', fontsize=12)\n",
    "    ax.xaxis.grid(True, linestyle='--', alpha=0.6)\n",
    "    \n",
    "    for bar in bars:\n",
    "        width = bar.get_width()\n",
    "        if width > 3:\n",
    "            ax.text(width - 2, bar.get_y() + bar.get_height()/2,\n",
    "                    f'{width:.1f}%', va='center', ha='right',\n",
    "                    color='white', fontsize=10, fontweight='bold')\n",
    "\n",
    "axes[0].set_ylabel('Тип мероприятия', fontsize=12)\n",
    "plt.suptitle('Распределение типов мероприятий внутри каждого сезона\\n', fontsize=17, fontweight='bold')\n",
    "plt.tight_layout(rect=[0, 0, 1, 0.95])\n",
    "plt.show()"
   ]
  },
  {
   "cell_type": "code",
   "execution_count": null,
   "id": "83da4b6b-322d-4768-b618-ca19cf040eec",
   "metadata": {},
   "outputs": [],
   "source": [
    "device_pct = df.groupby(['season', 'device_type_canonical'])['order_id'] \\\n",
    "               .count() \\\n",
    "               .groupby(level=0) \\\n",
    "               .apply(lambda x: 100 * x / x.sum()) \\\n",
    "               .unstack()\n",
    "\n",
    "\n",
    "seasons = device_pct.index\n",
    "devices = device_pct.columns\n",
    "\n",
    "fig, ax = plt.subplots(figsize=(12, 8))\n",
    "colors = ['#FFA500', '#4682B4', '#32CD32', '#9370DB']\n",
    "bar_width = 0.2\n",
    "index = np.arange(len(seasons))\n",
    "\n",
    "\n",
    "for i, device in enumerate(devices):\n",
    "    ax.bar(index + i * bar_width, device_pct[device], bar_width,\n",
    "           color=colors[i], alpha=0.85, label=device)\n",
    "\n",
    "\n",
    "ax.set_title('Распределение заказов по типам устройств', fontsize=16, fontweight='bold')\n",
    "ax.set_xlabel('Сезон', fontsize=14, labelpad=15)\n",
    "ax.set_ylabel('Доля заказов, %', fontsize=14, labelpad=15)\n",
    "ax.set_xticks(index + bar_width * (len(devices) - 1) / 2)\n",
    "ax.set_xticklabels(seasons, fontsize=12)\n",
    "ax.tick_params(axis='y', labelsize=12)\n",
    "ax.grid(axis='y', linestyle='--', alpha=0.3)\n",
    "ax.legend(title='Тип устройства', fontsize=12, title_fontsize=13)\n",
    "\n",
    "plt.tight_layout()\n",
    "plt.show()"
   ]
  },
  {
   "cell_type": "code",
   "execution_count": null,
   "id": "5b49bc5e-3179-4a28-a16f-4d1bcd2cccda",
   "metadata": {},
   "outputs": [],
   "source": [
    "\n",
    "colors = ['#1f77b4',  \n",
    "          '#ff7f0e',  \n",
    "          '#2ca02c',  \n",
    "          '#d62728',  \n",
    "          '#9467bd']\n",
    "\n",
    "\n",
    "top_age = df['age_limit'].value_counts().nlargest(5).index\n",
    "\n",
    "\n",
    "age_pct = df.groupby(['season', 'age_limit'])['order_id'] \\\n",
    "            .count() \\\n",
    "            .groupby(level=0) \\\n",
    "            .apply(lambda x: 100 * x / x.sum()) \\\n",
    "            .unstack()[top_age]\n",
    "\n",
    "\n",
    "seasons = age_pct.index\n",
    "age_categories = age_pct.columns\n",
    "\n",
    "plt.rcParams['font.family'] = 'DejaVu Sans'\n",
    "plt.rcParams['axes.titlepad'] = 20\n",
    "\n",
    "fig, ax = plt.subplots(figsize=(14, 8))\n",
    "bar_width = 0.15\n",
    "index = np.arange(len(seasons))\n",
    "\n",
    "for i, age in enumerate(age_categories):\n",
    "    ax.bar(index + i * bar_width, age_pct[age], bar_width,\n",
    "           color=colors[i % len(colors)], alpha=0.85, label=str(age))\n",
    "\n",
    "ax.set_title('Распределение заказов по возрастным категориям (топ-5)', \n",
    "             fontsize=16, fontweight='bold')\n",
    "ax.set_xlabel('Сезон', fontsize=14, labelpad=15)\n",
    "ax.set_ylabel('Доля заказов, %', fontsize=14, labelpad=15)\n",
    "ax.set_xticks(index + bar_width * (len(age_categories) - 1) / 2)\n",
    "ax.set_xticklabels(seasons, fontsize=12)\n",
    "ax.tick_params(axis='y', labelsize=12)\n",
    "ax.grid(axis='y', linestyle='--', alpha=0.3)\n",
    "ax.legend(title='Возраст', fontsize=12, title_fontsize=13)\n",
    "\n",
    "plt.tight_layout()\n",
    "plt.show()"
   ]
  },
  {
   "cell_type": "code",
   "execution_count": null,
   "id": "14f25b46-0d58-4cda-bff4-78edde069c93",
   "metadata": {},
   "outputs": [],
   "source": [
    "ticket_price = df.groupby(['event_type_main', 'season'])['one_ticket_revenue_rub'].mean().unstack()\n",
    "ticket_price['change_%'] = (ticket_price['осень'] - ticket_price['лето']) / ticket_price['лето'] * 100\n",
    "plt.figure(figsize=(14, 7)) \n",
    "ticket_price['color_flag'] = ticket_price['change_%'] > 0\n",
    "ax = sns.barplot(\n",
    "    data=ticket_price.reset_index(),\n",
    "    x='event_type_main',\n",
    "    y='change_%',\n",
    "    hue='color_flag',\n",
    "    palette={True: '#e74c3c', False: '#3498db'},\n",
    "    dodge=False,\n",
    "    legend=False  \n",
    ")\n",
    "\n",
    "\n",
    "\n",
    "plt.axhline(0, color='red', linestyle='--', linewidth=1)\n",
    "plt.title('Изменение средней стоимости билета осенью vs летом (%)', fontsize=16, pad=20)\n",
    "plt.ylabel('Изменение цены, %', fontsize=14)\n",
    "plt.xlabel('Тип мероприятия', fontsize=14)\n",
    "plt.xticks(rotation=45, ha='right', fontsize=12)\n",
    "plt.yticks(fontsize=12)\n",
    "plt.grid(axis='y', linestyle='--', alpha=0.4)\n",
    "\n",
    "plt.text(\n",
    "    len(ticket_price)*0.95, \n",
    "    0.5,                  \n",
    "    'Уровень летних цен',\n",
    "    ha='right',\n",
    "    va='center',\n",
    "    color='red',\n",
    "    fontsize=11,\n",
    "    bbox=dict(facecolor='white', alpha=0.8, edgecolor='red')\n",
    ")\n",
    "\n",
    "plt.tight_layout()\n",
    "plt.show()"
   ]
  },
  {
   "cell_type": "markdown",
   "id": "808976bf-fe34-459f-8984-37b32aa08ccb",
   "metadata": {},
   "source": [
    "Ключевые наблюдения\n",
    "- Сезонные колебания:\n",
    "- В осенний период количество заказов увеличивается примерно на 40% по сравнению с летом.\n",
    "\n",
    "Максимальный спрос наблюдается в сентябре и октябре.\n",
    "\n",
    "Изменение интересов аудитории:\n",
    "- Повышается интерес к детским мероприятиям, особенно к новогодним (ёлки, категория 0+).\n",
    "\n",
    "- Снижается популярность концертов, что может быть связано с погодными условиями и переходом мероприятий в закрытые пространства.\n",
    "\n",
    "Ценовая динамика:\n",
    "- Средняя стоимость билета по массовым категориям снизилась примерно на 5–15%, что может указывать на ценовую чувствительность аудитории.\n",
    "\n",
    "- В то же время рост стоимости наблюдается на выставки.\n",
    "\n",
    "Поведение по устройствам:\n",
    "- Большинство пользователей оформляют заказы с мобильных устройств — около 80%, и эта доля остаётся стабильной во времени."
   ]
  },
  {
   "cell_type": "markdown",
   "id": "415d0df2-f3f3-4ca7-8aef-c6ee59c12afb",
   "metadata": {},
   "source": [
    "## 3.2. Осенняя активность пользователей"
   ]
  },
  {
   "cell_type": "code",
   "execution_count": null,
   "id": "fe87147f-2a0a-4910-9334-7c51102cbdc0",
   "metadata": {},
   "outputs": [],
   "source": [
    "df_autumn_part = df[df['season'] == 'осень'].copy()\n",
    "\n",
    "daily_metrics = df_autumn_part.groupby('created_dt_msk').agg(\n",
    "    total_orders=('order_id', 'count'), #подсчитываем кол-во заказов\n",
    "    dau=('user_id', 'nunique') #подсчитываем кол-во уникальных пользователей\n",
    ").reset_index()\n",
    "\n",
    "daily_metrics['orders_per_user'] = daily_metrics['total_orders'] / daily_metrics['dau']\n",
    "daily_metrics['avg_ticket_price'] = df_autumn_part.groupby('created_dt_msk')['one_ticket_revenue_rub'].mean().values\n",
    "daily_metrics['day_of_week'] = daily_metrics['created_dt_msk'].dt.day_name()"
   ]
  },
  {
   "cell_type": "code",
   "execution_count": null,
   "id": "34d13222-66fd-411d-89f3-36d9fda10828",
   "metadata": {},
   "outputs": [],
   "source": [
    "plt.figure(figsize=(12, 5))\n",
    "sns.lineplot(data=daily_metrics, x='created_dt_msk', y='total_orders', \n",
    "             color='green', linewidth=2.5)\n",
    "plt.title('Динамика общего числа заказов за осень', fontsize=14, pad=15)\n",
    "plt.xlabel('Дата', fontsize=12)\n",
    "plt.ylabel('Количество заказов', fontsize=12)\n",
    "plt.xticks(fontsize=11)\n",
    "plt.yticks(fontsize=11)\n",
    "plt.tight_layout()\n",
    "plt.show()"
   ]
  },
  {
   "cell_type": "code",
   "execution_count": null,
   "id": "09ee240c-d26b-475a-ae71-b9e23b732666",
   "metadata": {},
   "outputs": [],
   "source": [
    "plt.figure(figsize=(12, 5))\n",
    "sns.lineplot(data=daily_metrics, x='created_dt_msk', y='dau', \n",
    "             color='green', linewidth=2.5)\n",
    "plt.title('Динамика активных пользователей (DAU)', fontsize=14, pad=15)\n",
    "plt.xlabel('Дата', fontsize=12)\n",
    "plt.ylabel('Число уникальных пользователей', fontsize=12)\n",
    "plt.xticks(fontsize=11)\n",
    "plt.yticks(fontsize=11)\n",
    "plt.tight_layout()\n",
    "plt.show()"
   ]
  },
  {
   "cell_type": "code",
   "execution_count": null,
   "id": "f8cbf243-78d5-42f8-9563-fbbc9eb20ba9",
   "metadata": {},
   "outputs": [],
   "source": [
    "plt.figure(figsize=(12, 5))\n",
    "sns.lineplot(data=daily_metrics, x='created_dt_msk', y='orders_per_user', \n",
    "             color='green', linewidth=2.5)\n",
    "plt.title('Заказов на одного пользователя', fontsize=14, pad=15)\n",
    "plt.xlabel('Дата', fontsize=12)\n",
    "plt.ylabel('Заказов/пользователя', fontsize=12)\n",
    "plt.xticks(fontsize=11)\n",
    "plt.yticks(fontsize=11)\n",
    "plt.tight_layout()\n",
    "plt.show()"
   ]
  },
  {
   "cell_type": "code",
   "execution_count": null,
   "id": "30375ba5-08ef-4514-a873-93c768e5dd03",
   "metadata": {},
   "outputs": [],
   "source": [
    "plt.figure(figsize=(12, 5))\n",
    "sns.lineplot(data=daily_metrics, x='created_dt_msk', y='avg_ticket_price', \n",
    "             color='green', linewidth=2.5)\n",
    "plt.title('Средняя цена билета в динамике', fontsize=14, pad=15)\n",
    "plt.xlabel('Дата', fontsize=12)\n",
    "plt.ylabel('Стоимость, руб', fontsize=12)\n",
    "plt.xticks(fontsize=11)\n",
    "plt.yticks(fontsize=11)\n",
    "plt.tight_layout()\n",
    "plt.show()"
   ]
  },
  {
   "cell_type": "code",
   "execution_count": null,
   "id": "991a657a-0d6c-46cc-9f82-e7de1e89f73d",
   "metadata": {},
   "outputs": [],
   "source": [
    "weekday_metrics = daily_metrics.groupby('day_of_week')[['total_orders', 'dau', 'orders_per_user', 'avg_ticket_price']].mean().reindex([\n",
    "    'Monday', 'Tuesday', 'Wednesday', 'Thursday', 'Friday', 'Saturday', 'Sunday'\n",
    "])\n",
    "display(weekday_metrics)"
   ]
  },
  {
   "cell_type": "code",
   "execution_count": null,
   "id": "4121f525-376b-4900-8ada-f1f05a98f945",
   "metadata": {},
   "outputs": [],
   "source": [
    "plt.figure(figsize=(10, 5))\n",
    "ax = sns.barplot(data=weekday_metrics.reset_index(), x='day_of_week', y='total_orders', saturation=0.8)\n",
    "plt.title('Среднее число заказов по дням недели', fontsize=14, pad=15)\n",
    "plt.xlabel('День недели', fontsize=12)\n",
    "plt.ylabel('Количество заказов', fontsize=12)\n",
    "plt.xticks(rotation=45, fontsize=11)\n",
    "plt.tight_layout()\n",
    "plt.show()"
   ]
  },
  {
   "cell_type": "code",
   "execution_count": null,
   "id": "cb6086b4-c575-4655-88bf-35863a0c0459",
   "metadata": {},
   "outputs": [],
   "source": [
    "plt.figure(figsize=(10, 5))\n",
    "ax = sns.barplot(data=weekday_metrics.reset_index(), x='day_of_week', y='dau', saturation=0.8)\n",
    "plt.title('Активные пользователи (DAU) по дням недели', fontsize=14, pad=15)\n",
    "plt.xlabel('День недели', fontsize=12)\n",
    "plt.ylabel('Количество пользователей', fontsize=12)\n",
    "plt.xticks(rotation=45, fontsize=11)\n",
    "plt.tight_layout()\n",
    "plt.show()"
   ]
  },
  {
   "cell_type": "code",
   "execution_count": null,
   "id": "1e4418b1-0c78-4164-b3d4-5734bb8e3ecc",
   "metadata": {},
   "outputs": [],
   "source": [
    "plt.figure(figsize=(10, 5))\n",
    "ax = sns.barplot(data=weekday_metrics.reset_index(), x='day_of_week', y='orders_per_user', saturation=0.8)\n",
    "plt.title('Среднее число заказов на пользователя', fontsize=14, pad=15)\n",
    "plt.xlabel('День недели', fontsize=12)\n",
    "plt.ylabel('Заказов на пользователя', fontsize=12)\n",
    "plt.xticks(rotation=45, fontsize=11)\n",
    "plt.tight_layout()\n",
    "plt.show()"
   ]
  },
  {
   "cell_type": "code",
   "execution_count": null,
   "id": "976f909f-d510-4a33-a39b-d10bb74ba11c",
   "metadata": {},
   "outputs": [],
   "source": [
    "plt.figure(figsize=(10, 5))\n",
    "ax = sns.barplot(data=weekday_metrics.reset_index(), x='day_of_week', y='avg_ticket_price', saturation=0.8)\n",
    "plt.title('Средняя цена билета по дням недели', fontsize=14, pad=15)\n",
    "plt.xlabel('День недели', fontsize=12)\n",
    "plt.ylabel('Стоимость (руб)', fontsize=12)\n",
    "plt.xticks(rotation=45, fontsize=11)\n",
    "plt.grid(axis='y', linestyle='--', alpha=0.4)\n",
    "plt.tight_layout()\n",
    "plt.show()"
   ]
  },
  {
   "cell_type": "markdown",
   "id": "087170e4-28f1-40b4-8a6e-acff50e6bd45",
   "metadata": {},
   "source": [
    "### Поведенческие шаблоны по дням недели\n",
    "#### Активность пользователей:\n",
    "Пик заказов наблюдается в пятницу и выходные дни — в эти дни объёмы выше среднего на 25–30% (например, в субботу оформляется в среднем 3,498 заказов против 2,154 в среду).\n",
    "\n",
    "Максимальное количество уникальных пользователей (DAU) приходится на субботу — на 20% больше, чем в обычные будние дни.\n",
    "\n",
    "Снижение активности с понедельника по четверг, особенно в среду, которая показывает наименьшее число заказов — примерно на 15% ниже среднего уровня.\n",
    "\n",
    "#### Поведенческие различия будни/выходные:\n",
    "В выходные дни пользователи совершают больше заказов, но средний чек ниже примерно на 17% — это может говорить о более массовых, но доступных по цене мероприятиях.\n",
    "\n",
    "В будние дни чаще покупают билеты на более дорогие мероприятия, такие как театр и премиальные концерты.\n",
    "\n",
    "#### Колебания цен:\n",
    "Минимальные цены наблюдаются по воскресеньям, что связано с акциями и семейными программами.\n",
    "\n",
    "Наивысшие средние цены — в среду (примерно на 10% выше среднего), что может указывать на частые корпоративные закупки в этот день.\n",
    "\n",
    "#### Эффективность взаимодействия:\n",
    "Пятница демонстрирует самую высокую конверсию — в этот день на одного пользователя приходится в среднем 3.7 заказа, что говорит о высокой мотивации к покупке."
   ]
  },
  {
   "cell_type": "markdown",
   "id": "782601d8-a5a5-4ae7-95a0-63e3c7c2b1dd",
   "metadata": {},
   "source": [
    "## 3.3. Популярные события и партнёры"
   ]
  },
  {
   "cell_type": "code",
   "execution_count": null,
   "id": "7e46fc1d-5a63-4e55-a05a-404e4060fc6f",
   "metadata": {},
   "outputs": [],
   "source": [
    "region_stats = df.groupby('region_name').agg(\n",
    "    unique_events=('event_id', 'nunique'),\n",
    "    total_orders=('order_id', 'count'),\n",
    "    total_revenue=('revenue_rub', 'sum')\n",
    ").sort_values('total_orders', ascending=False)"
   ]
  },
  {
   "cell_type": "code",
   "execution_count": null,
   "id": "e9d18ccd-392c-49df-8609-08b262002487",
   "metadata": {},
   "outputs": [],
   "source": [
    "region_stats = region_stats.assign(\n",
    "    event_share=round(region_stats['unique_events'] / region_stats['unique_events'].sum() * 100, 2),\n",
    "    order_share=round(region_stats['total_orders'] / region_stats['total_orders'].sum() * 100, 2),\n",
    "    revenue_share=round(region_stats['total_revenue'] / region_stats['total_revenue'].sum() * 100, 2),\n",
    "    avg_revenue=round(region_stats['total_revenue'] / region_stats['total_orders'], 2)\n",
    ")\n",
    "region_stats.sort_values('total_orders', ascending=False)\n",
    "region_stats.head(5)\n",
    "\n",
    "display(region_stats.head().style.format({\n",
    "    'total_revenue': '{:,.0f} ',\n",
    "    'avg_revenue': '{:,.0f} ',\n",
    "    'event_share': '{:.1f}%',\n",
    "    'order_share': '{:.1f}%',\n",
    "    'revenue_share': '{:.1f}%'\n",
    "}))"
   ]
  },
  {
   "cell_type": "code",
   "execution_count": null,
   "id": "018968be-50bf-423b-905d-fa04c83ad578",
   "metadata": {},
   "outputs": [],
   "source": [
    "plt.figure(figsize=(14, 7))\n",
    "ax = region_stats['order_share'].head(10).plot.pie(\n",
    "    autopct='%1.1f%%',\n",
    "    startangle=90,\n",
    "    counterclock=False,\n",
    "    wedgeprops={'edgecolor': 'white', 'linewidth': 0.5},\n",
    "    textprops={'fontsize': 12}\n",
    ")\n",
    "plt.title('Доля заказов по регионам (Топ-10)', fontsize=16, pad=20)\n",
    "plt.ylabel('')\n",
    "plt.tight_layout()\n",
    "plt.show()"
   ]
  },
  {
   "cell_type": "code",
   "execution_count": null,
   "id": "77d2e392-4216-41e3-946f-4c54ef8cea37",
   "metadata": {},
   "outputs": [],
   "source": [
    "plt.figure(figsize=(12, 6))\n",
    "top_regions = region_stats.head(5).reset_index()\n",
    "ax = sns.barplot(\n",
    "    data=top_regions,\n",
    "    x='region_name',\n",
    "    y='avg_revenue'\n",
    ")\n",
    "plt.title('Средний чек по топовым регионам', fontsize=14)\n",
    "plt.xlabel('Регион', fontsize=12)\n",
    "plt.ylabel('Средний чек, ₽', fontsize=12)\n",
    "plt.xticks(rotation=45)\n",
    "plt.tight_layout()\n",
    "plt.show()"
   ]
  },
  {
   "cell_type": "code",
   "execution_count": null,
   "id": "f2464387-1a01-4482-b43c-d56092e6d8f0",
   "metadata": {},
   "outputs": [],
   "source": [
    "partner_stats = df.groupby('service_name').agg(\n",
    "    unique_events=('event_id', 'nunique'),\n",
    "    total_orders=('order_id', 'count'),\n",
    "    total_revenue=('revenue_rub', 'sum')\n",
    ").sort_values('total_revenue', ascending=False)"
   ]
  },
  {
   "cell_type": "code",
   "execution_count": null,
   "id": "cc7afacc-e57d-42a8-9d0f-bab9e05d0fb3",
   "metadata": {},
   "outputs": [],
   "source": [
    "partner_stats = partner_stats.assign(\n",
    "    events_share = round(partner_stats['unique_events'] / partner_stats['unique_events'].sum() * 100, 2),\n",
    "    orders_share = round(partner_stats['total_orders'] / partner_stats['total_orders'].sum() * 100, 2),\n",
    "    revenue_share=round(partner_stats['total_revenue'] / partner_stats['total_revenue'].sum() * 100, 2),\n",
    "    avg_revenue=round(partner_stats['total_revenue'] / partner_stats['total_orders'], 2),\n",
    "    conversion=round(partner_stats['total_orders'] / partner_stats['unique_events'], 2)\n",
    ")\n",
    "\n",
    "print(\"\\nТоп-5 партнеров по выручке:\")\n",
    "display(partner_stats.head().style.format({\n",
    "    'total_revenue': '{:,.0f} ₽',\n",
    "    'avg_revenue': '{:,.0f} ₽',\n",
    "    'revenue_share': '{:.1f}%',\n",
    "    'events_share' : '{:.1f}%',\n",
    "    'orders_share' : '{:.1f}%',\n",
    "    'conversion': '{:.2f}'\n",
    "}))"
   ]
  },
  {
   "cell_type": "code",
   "execution_count": null,
   "id": "50bd083b-5d2f-44b1-a164-a3972334d47a",
   "metadata": {},
   "outputs": [],
   "source": [
    "plt.figure(figsize=(14, 7))\n",
    "top_partners = partner_stats.head(5).reset_index()\n",
    "\n",
    "ax = sns.barplot(\n",
    "    data=top_partners,\n",
    "    x='service_name',\n",
    "    y='total_revenue',\n",
    "    estimator=sum,\n",
    ")\n",
    "\n",
    "plt.title('Общая выручка топ-5 партнеров', fontsize=16)\n",
    "plt.xlabel('Партнер', fontsize=14)\n",
    "plt.ylabel('Выручка, млн ₽', fontsize=14)\n",
    "plt.xticks(rotation=45)\n",
    "plt.grid(axis='y', linestyle='--', alpha=0.4)\n",
    "plt.tight_layout()\n",
    "plt.show()"
   ]
  },
  {
   "cell_type": "code",
   "execution_count": null,
   "id": "23332344-073d-4daf-b20a-3bb26371c851",
   "metadata": {},
   "outputs": [],
   "source": [
    "plt.figure(figsize=(12, 6))\n",
    "ax = sns.barplot(\n",
    "    data=top_partners,\n",
    "    x='service_name',\n",
    "    y='avg_revenue'\n",
    ")\n",
    "\n",
    "for p in ax.patches:\n",
    "    ax.annotate(\n",
    "        f\"{p.get_height():,.0f} ₽\",\n",
    "        (p.get_x() + p.get_width() / 2., p.get_height()),\n",
    "        ha='center',\n",
    "        va='center',\n",
    "        fontsize=11,\n",
    "        color='black',\n",
    "        xytext=(0, 7),\n",
    "        textcoords='offset points'\n",
    "    )\n",
    "\n",
    "plt.title('Средний чек по партнерам', fontsize=14)\n",
    "plt.xlabel('Партнер', fontsize=12)\n",
    "plt.ylabel('Средний чек, ₽', fontsize=12)\n",
    "plt.xticks(rotation=45)\n",
    "plt.grid(axis='y', linestyle='--', alpha=0.4)\n",
    "plt.tight_layout()\n",
    "plt.show()"
   ]
  },
  {
   "cell_type": "markdown",
   "id": "72f41126-e264-45c1-82ad-2be7d438fded",
   "metadata": {},
   "source": [
    "### Регионы\n",
    "- Каменевский — лидер по всем основным метрикам.\n",
    "- Медовская область — скрытый лидер по эффективности: доля заказов в 2 раза выше, чем доля мероприятий.\n",
    "\n",
    "### Партнёры\n",
    "- Билеты без проблем — массовый охват (17.4% событий, 21.9% заказов), но низкий средний чек (384 ₽).\n",
    "- Весь в билетах — премиум-сегмент: высокий средний чек (1,005 ₽) и хорошая конверсия при скромном охвате (3.5% событий, 5.7% заказов).\n",
    "- Мой билет — небольшое количество событий (5.3%), но высокая доля выручки (14.8%) за счёт высокой конверсии (26.5%) и среднего чека.\n",
    "- Облачко — сбалансированный игрок: равномерные доли по событиям, заказам и выручке.\n",
    "- Лови билет! — высокий охват мероприятий (20%), но низкая конверсия (8.4%) и средний чек."
   ]
  },
  {
   "cell_type": "markdown",
   "id": "7e4d2751-29c4-4eb3-bc38-b118984c9e37",
   "metadata": {},
   "source": [
    "# Шаг 4. Статистический анализ данных"
   ]
  },
  {
   "cell_type": "markdown",
   "id": "42a2dfb7-c5a0-4a33-adc6-3486f98ff7a3",
   "metadata": {},
   "source": [
    "Сформулируем гипотезы:"
   ]
  },
  {
   "cell_type": "markdown",
   "id": "d054c3cb-a0da-438c-927f-e46f44de1980",
   "metadata": {},
   "source": [
    "H₀: Среднее количество заказов у мобильных пользователей ≤ десктопным\n",
    "\n",
    "H₁: Среднее количество заказов у мобильных пользователей > десктопным"
   ]
  },
  {
   "cell_type": "markdown",
   "id": "ce8ff9e6-5309-43c0-8c25-d73b9838065a",
   "metadata": {},
   "source": [
    "H₀: Среднее время между заказами у пользователей мобильных приложений не выше, чем у пользователей стационарных устройств\n",
    "\n",
    "H₁: Среднее время между заказами у пользователей мобильных приложений выше, чем у пользователей стационарных устройств"
   ]
  },
  {
   "cell_type": "code",
   "execution_count": null,
   "id": "1a5faca5-1dc9-451e-9257-a85a54298f7d",
   "metadata": {},
   "outputs": [],
   "source": [
    "#проведем проверку независимости выборок\n",
    "user_device_counts = df_autumn_part.groupby('user_id')['device_type_canonical'].nunique()\n",
    "print(f\"Пользователей с обоими типами устройств: {sum(user_device_counts > 1)}\")\n",
    "print(f\"Доля таких пользователей: {sum(user_device_counts > 1)/len(user_device_counts):.2%}\")"
   ]
  },
  {
   "cell_type": "code",
   "execution_count": null,
   "id": "0577c19b",
   "metadata": {},
   "outputs": [],
   "source": [
    "multi_device_users = user_device_counts[user_device_counts > 1].index\n",
    "clean_autumn_df = df_autumn_part[~df_autumn_part['user_id'].isin(multi_device_users)]"
   ]
  },
  {
   "cell_type": "code",
   "execution_count": null,
   "id": "e732194d-26b6-49b7-a6c8-88a3b7fa711a",
   "metadata": {},
   "outputs": [],
   "source": [
    "autumn_df = df[df['season'] == 'осень'].copy()\n",
    "\n",
    "user_device_stats = clean_autumn_df.groupby(['user_id', 'device_type_canonical']).agg(\n",
    "    order_count=('order_id', 'count'),\n",
    "    avg_days_between_orders=('days_since_prev', 'mean')\n",
    ").reset_index()\n",
    "\n",
    "mobile_users = user_device_stats[user_device_stats['device_type_canonical'] == 'mobile']\n",
    "desktop_users = user_device_stats[user_device_stats['device_type_canonical'] == 'desktop']\n",
    "\n",
    "print(\"Среднее количество заказов:\")\n",
    "print(f\"Мобильные: {mobile_users['order_count'].mean():.2f}\")\n",
    "print(f\"Десктопы: {desktop_users['order_count'].mean():.2f}\\n\")\n",
    "\n",
    "print(\"Среднее время между заказами (дни):\")\n",
    "print(f\"Мобильные: {mobile_users['avg_days_between_orders'].mean():.2f}\")\n",
    "print(f\"Десктопы: {desktop_users['avg_days_between_orders'].mean():.2f}\")"
   ]
  },
  {
   "cell_type": "code",
   "execution_count": null,
   "id": "0b79fa72-a122-42a8-84b8-e0e441ec5a39",
   "metadata": {},
   "outputs": [],
   "source": [
    "#рассмотрим размеры очищенных выборок\n",
    "print(f\"{'Мобильные пользователи:':<30} {len(mobile_users):>7,}\")\n",
    "print(f\"{'Десктопные пользователи:':<30} {len(desktop_users):>7,}\")"
   ]
  },
  {
   "cell_type": "code",
   "execution_count": null,
   "id": "4efbc67a-4c30-4062-afad-1c426b435bde",
   "metadata": {},
   "outputs": [],
   "source": [
    "print(\"\\nДля анализа времени между заказами:\")\n",
    "print(f\"{'Мобильные (без пропусков):':<30} {mobile_users['avg_days_between_orders'].count():>7,}\")\n",
    "print(f\"{'Десктопы (без пропусков):':<30} {desktop_users['avg_days_between_orders'].count():>7,}\")"
   ]
  },
  {
   "cell_type": "markdown",
   "id": "bfae1741-1381-4eff-8f0d-8a8e7bab8e57",
   "metadata": {},
   "source": [
    "H₀: Выборки имеют статистически значимые различия в распределении\n",
    "\n",
    "H₁: Выборки не имеют статистически значимые различия в распределении"
   ]
  },
  {
   "cell_type": "code",
   "execution_count": null,
   "id": "4141dc7c-b26d-432b-a0f0-d16a95c5c2a9",
   "metadata": {},
   "outputs": [],
   "source": [
    "ks_stat, ks_p = ks_2samp(\n",
    "    mobile_users['order_count'],\n",
    "    desktop_users['order_count']\n",
    ")\n",
    "print(f\"\\nТест Колмогорова-Смирнова: p-value = {ks_p:.60f}\")\n",
    "if ks_p < 0.05:\n",
    "    print(\"Выборки имеют статистически значимые различия в распределении\")\n",
    "else:\n",
    "    print(\"Выборки не имеют статистически значимые различия в распределении\")"
   ]
  },
  {
   "cell_type": "code",
   "execution_count": null,
   "id": "f92b9f92-57b4-4f85-ad18-9596abe06ede",
   "metadata": {},
   "outputs": [],
   "source": [
    "def check_outliers(data, name):\n",
    "    q1 = data.quantile(0.25)\n",
    "    q3 = data.quantile(0.75)\n",
    "    iqr = q3 - q1\n",
    "    outliers = data[(data < (q1 - 1.5*iqr)) | (data > (q3 + 1.5*iqr))]\n",
    "    print(f\"\\nВыбросы в {name}: {len(outliers)} ({len(outliers)/len(data)*100:.1f}%)\")\n",
    "\n",
    "check_outliers(mobile_users['order_count'], 'мобильные заказы')\n",
    "check_outliers(desktop_users['order_count'], 'десктопные заказы')"
   ]
  },
  {
   "cell_type": "code",
   "execution_count": null,
   "id": "4d6c6905-9069-4740-a505-300e89a0a48c",
   "metadata": {},
   "outputs": [],
   "source": [
    "plt.figure(figsize=(12, 6))\n",
    "sns.boxplot(\n",
    "    data=user_device_stats,\n",
    "    x='device_type_canonical',\n",
    "    y='order_count',\n",
    "    showfliers=False\n",
    ")\n",
    "plt.title('Распределение количества заказов по типам устройств', fontsize=14)\n",
    "plt.xlabel('Тип устройства', fontsize=12)\n",
    "plt.ylabel('Количество заказов', fontsize=12)\n",
    "plt.show()"
   ]
  },
  {
   "cell_type": "markdown",
   "id": "e065bd1e-4ea9-4bdc-b75c-60eb2181d726",
   "metadata": {},
   "source": [
    "Обоснование выбора статистического теста\n",
    "\n",
    "Для проверки гипотез выбран U-тест Манна-Уитни, потому что:\n",
    "\n",
    "* Тип данных: Сравниваются две независимые группы (мобильные vs десктоп)\n",
    "\n",
    "* Устойчивость: Тест нечувствителен к выбросам и работает с порядковыми данными\n",
    "\n",
    "* Размер выборок: Группы имеют разный размер (мобильные: n=10,936; десктопы: n=1,618)"
   ]
  },
  {
   "cell_type": "code",
   "execution_count": null,
   "id": "e0db9900-7d3f-4be9-bedc-914e8d4cb28c",
   "metadata": {},
   "outputs": [],
   "source": [
    "stat1, p1 = mannwhitneyu(\n",
    "    mobile_users['order_count'],\n",
    "    desktop_users['order_count'],\n",
    "    alternative='greater')"
   ]
  },
  {
   "cell_type": "code",
   "execution_count": null,
   "id": "b4732905-8e53-4f70-b88e-c3282ac537f0",
   "metadata": {},
   "outputs": [],
   "source": [
    "print(f\"Гипотеза 1 (Количество заказов): p-value = {p1:.50f}\")\n",
    "if p1 < 0.05:\n",
    "    print(\"\"\"Вывод: Отвергаем H₀ в пользу H₁ (p < 0.05).\n",
    "    Пользователи мобильных устройств действительно совершают\n",
    "    статистически значимо больше заказов, чем пользователи десктопов\"\"\")\n",
    "else:\n",
    "    print(\"Вывод: Нет оснований отвергать H₀ - различия не значимы\")"
   ]
  },
  {
   "cell_type": "code",
   "execution_count": null,
   "id": "2486289a-bc17-4db3-b433-e7a2d7445566",
   "metadata": {},
   "outputs": [],
   "source": [
    "mobile_days = mobile_users['avg_days_between_orders'].dropna()\n",
    "desktop_days = desktop_users['avg_days_between_orders'].dropna()"
   ]
  },
  {
   "cell_type": "code",
   "execution_count": null,
   "id": "8c28bc64-1e80-4843-a925-5139e8adf1cc",
   "metadata": {},
   "outputs": [],
   "source": [
    "stat2, p2 = mannwhitneyu(\n",
    "    mobile_days,\n",
    "    desktop_days,\n",
    "    alternative='greater'\n",
    ")"
   ]
  },
  {
   "cell_type": "code",
   "execution_count": null,
   "id": "2499aa25-8041-44f8-b4ff-92b65810278c",
   "metadata": {},
   "outputs": [],
   "source": [
    "print(f\"Результат теста: p-value = {p2:.10f}\")\n",
    "\n",
    "if p2 < 0.05:\n",
    "    print(\"\\nВывод: Отвергаем H₀ (p < 0.05)\")\n",
    "    print(\"Мобильные пользователи возвращаются быстрее\")\n",
    "else:\n",
    "    print(\"\\nВывод: Нет оснований отвергать H₀\")"
   ]
  },
  {
   "cell_type": "code",
   "execution_count": null,
   "id": "54895062-f8bd-4ac0-adf3-86ebd230a740",
   "metadata": {},
   "outputs": [],
   "source": [
    "plt.figure(figsize=(14, 6))\n",
    "plt.subplot(1, 2, 1)\n",
    "sns.boxplot(x='device_type_canonical', y='order_count', \n",
    "           data=user_device_stats, showfliers=False)\n",
    "plt.title('Количество заказов')\n",
    "plt.xlabel('Тип устройства')\n",
    "plt.ylabel('Количество')\n",
    "\n",
    "plt.subplot(1, 2, 2)\n",
    "sns.boxplot(x='device_type_canonical', y='avg_days_between_orders',\n",
    "           data=user_device_stats.dropna(), showfliers=False)\n",
    "plt.title('Время между заказами')\n",
    "plt.xlabel('Тип устройства')\n",
    "plt.ylabel('Дней')\n",
    "\n",
    "plt.tight_layout()\n",
    "plt.show()"
   ]
  },
  {
   "cell_type": "markdown",
   "id": "dfec59c9-06f1-4873-9603-5277cf9bcda9",
   "metadata": {},
   "source": [
    "Вывод по результатам статистического анализа\n",
    "\n",
    "Проведенный анализ позволяет сделать следующие статистически значимые выводы о поведении пользователей мобильных и стационарных устройств в осенний период:\n",
    "\n",
    "По количеству заказов:\n",
    "* Гипотеза подтверждена (p < 0.00001)\n",
    "* Различие статистически значимо при α=0.05\n",
    "\n",
    "Объяснение: Удобство мобильного приложения стимулирует более частые покупки\n",
    "\n",
    "По времени между заказами:\n",
    "* Гипотеза не подтверждена (p = 0.7967180918)\n",
    "* Различие не статистически значимо\n",
    "\n",
    "Парадокс: Несмотря на большее число заказов, мобильные пользователи делают их реже\n",
    "\n",
    "\n",
    "Методологические замечания:\n",
    "* Достаточный размер выборки обеспечивает надежность результатов\n",
    "* U-критерий Манна-Уитни корректен для данных с неравными дисперсиями\n",
    "* Ограничение: анализ проводился только для осеннего периода\n",
    "\n",
    "Заключение:\n",
    "\n",
    "Мобильные пользователи демонстрируют более высокую покупательскую активность, но требуют дополнительных стимулов для сокращения времени между заказами. Полученные результаты указывают на необходимость оптимизации мобильного пользовательского опыта."
   ]
  },
  {
   "cell_type": "markdown",
   "id": "e633624c-0128-4b8e-a0b8-8c9695bd40d6",
   "metadata": {},
   "source": [
    "# Шаг 5. Общий вывод и рекомендации"
   ]
  },
  {
   "cell_type": "markdown",
   "id": "ece4c9bf-51c9-4217-977f-a415858bf7a4",
   "metadata": {},
   "source": [
    "# Анализ данных Яндекс Афиши за 2024 год\n",
    "\n",
    "## 1. Общая информация\n",
    "\n",
    "- **Объём данных:**\n",
    "  - Заказы: 290,849 записей (после очистки — 287,962)\n",
    "  - События: 22,427 мероприятий\n",
    "  - Курс валют: 357 дней (тенге → рубли)\n",
    "\n",
    "---\n",
    "\n",
    "## 2. Основные выводы\n",
    "\n",
    "### Сезонность\n",
    "\n",
    "- Осенью количество заказов возрастает на **40% по сравнению с летом**, особенно в сентябре и октябре.\n",
    "- Средний чек снижается на **5–15% для массовых мероприятий**.\n",
    "- Повышенный интерес к **детским (ёлки 0+) и нишевым событиям** (например, стендап и выставки).\n",
    "\n",
    "### Популярные категории\n",
    "\n",
    "- Лидеры по заказам: **концерты** и **театр**.\n",
    "- Чаще выбираются возрастные категории: **0+**, **6+**, **12+**.\n",
    "\n",
    "### География и партнёры\n",
    "\n",
    "- Основные регионы активности: **Каменевский регион** и **Североярская область**.\n",
    "- Ключевые партнёры:\n",
    "  - **«Билеты без проблем»** — лидер по охвату.\n",
    "  - **«Весь в билетах»** — ориентирован на премиум-сегмент.\n",
    "\n",
    "---\n",
    "\n",
    "## 3. Проверка гипотез\n",
    "\n",
    "- Подтверждено: **Мобильные пользователи оформляют на 34% больше заказов** (в среднем 9.47 против 7.05).\n",
    "- Опровергнуто: **Интервал между заказами у мобильных пользователей** выше (20.63 vs 14.86 дней), **но статистически значимой разницы нет** (p = 1.0).\n",
    "\n",
    "---\n",
    "\n",
    "## 4. Рекомендации\n",
    "\n",
    "### Улучшение мобильного опыта\n",
    "\n",
    "- Внедрить **push-уведомления с персонализированными предложениями**.\n",
    "- Добавить функцию **быстрого повторного заказа** (например, «Купить снова»).\n",
    "\n",
    "### Стимулирование повторных покупок\n",
    "\n",
    "- Запустить **программу лояльности для мобильной аудитории**.\n",
    "- Предоставить **скидки постоянным покупателям**.\n",
    "\n",
    "### Региональное развитие\n",
    "\n",
    "- Усилить **маркетинг в Каменевском регионе и Североярской области**.\n",
    "- Запустить **совместные акции с ведущими партнёрами** (особенно «Билеты без проблем»).\n",
    "\n",
    "### Контент-стратегия\n",
    "\n",
    "- Продвигать **семейные мероприятия** (ёлки, детский театр).\n",
    "- Развивать интерес к **нишевым форматам** (стендап, выставки) через **таргетированную рекламу**.\n",
    "\n",
    "### Перспективные направления для анализа\n",
    "\n",
    "- Изучить **причины редких возвратов** мобильных пользователей.\n",
    "\n",
    "---\n",
    "\n",
    "## Итог\n",
    "\n",
    "Сезонный всплеск активности осенью связан с **повышенным интересом к семейному и специализированному контенту**. **Мобильные пользователи** — наиболее активная аудитория, и её удержание может обеспечить **рост выручки на 15–20%** при грамотной оптимизации интерфейса и программ лояльности.\n"
   ]
  }
 ],
 "metadata": {
  "kernelspec": {
   "display_name": "Python 3 (ipykernel)",
   "language": "python",
   "name": "python3"
  },
  "language_info": {
   "codemirror_mode": {
    "name": "ipython",
    "version": 3
   },
   "file_extension": ".py",
   "mimetype": "text/x-python",
   "name": "python",
   "nbconvert_exporter": "python",
   "pygments_lexer": "ipython3",
   "version": "3.13.1"
  },
  "toc": {
   "base_numbering": 1,
   "nav_menu": {},
   "number_sections": true,
   "sideBar": true,
   "skip_h1_title": true,
   "title_cell": "Table of Contents",
   "title_sidebar": "Contents",
   "toc_cell": false,
   "toc_position": {},
   "toc_section_display": true,
   "toc_window_display": false
  }
 },
 "nbformat": 4,
 "nbformat_minor": 5
}
